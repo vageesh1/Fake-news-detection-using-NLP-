{
  "nbformat": 4,
  "nbformat_minor": 0,
  "metadata": {
    "colab": {
      "name": "fake news detection",
      "provenance": [],
      "collapsed_sections": []
    },
    "kernelspec": {
      "name": "python3",
      "display_name": "Python 3"
    },
    "language_info": {
      "name": "python"
    }
  },
  "cells": [
    {
      "cell_type": "markdown",
      "metadata": {
        "id": "zSt4N1FtJYMp"
      },
      "source": [
        "# importing libraries"
      ]
    },
    {
      "cell_type": "code",
      "metadata": {
        "id": "gwdjjAFfHgEJ"
      },
      "source": [
        "import pandas as pd\n",
        "import os\n",
        "import tweepy as tw\n",
        "import numpy as np\n",
        "import matplotlib.pyplot as plt\n",
        "import seaborn as sns"
      ],
      "execution_count": null,
      "outputs": []
    },
    {
      "cell_type": "code",
      "metadata": {
        "id": "7DqfLEbVL_rJ",
        "colab": {
          "base_uri": "https://localhost:8080/"
        },
        "outputId": "26a9d866-9476-46e2-e22b-47cedf0ca17c"
      },
      "source": [
        "from google.colab import drive\n",
        "drive.mount('/content/drive', force_remount=True)\n"
      ],
      "execution_count": null,
      "outputs": [
        {
          "output_type": "stream",
          "name": "stdout",
          "text": [
            "Mounted at /content/drive\n"
          ]
        }
      ]
    },
    {
      "cell_type": "markdown",
      "metadata": {
        "id": "XVqa4JrFJibg"
      },
      "source": [
        "# importing dataset"
      ]
    },
    {
      "cell_type": "code",
      "metadata": {
        "id": "XV9OerKwJkfI",
        "colab": {
          "base_uri": "https://localhost:8080/",
          "height": 206
        },
        "outputId": "f764b355-6627-4570-dbbd-60d3f863b8c3"
      },
      "source": [
        "true_news = pd.read_csv(\"/content/drive/MyDrive/Ed/True.csv\")\n",
        "true_news.head()"
      ],
      "execution_count": null,
      "outputs": [
        {
          "output_type": "execute_result",
          "data": {
            "text/html": [
              "<div>\n",
              "<style scoped>\n",
              "    .dataframe tbody tr th:only-of-type {\n",
              "        vertical-align: middle;\n",
              "    }\n",
              "\n",
              "    .dataframe tbody tr th {\n",
              "        vertical-align: top;\n",
              "    }\n",
              "\n",
              "    .dataframe thead th {\n",
              "        text-align: right;\n",
              "    }\n",
              "</style>\n",
              "<table border=\"1\" class=\"dataframe\">\n",
              "  <thead>\n",
              "    <tr style=\"text-align: right;\">\n",
              "      <th></th>\n",
              "      <th>title</th>\n",
              "      <th>text</th>\n",
              "      <th>subject</th>\n",
              "      <th>date</th>\n",
              "    </tr>\n",
              "  </thead>\n",
              "  <tbody>\n",
              "    <tr>\n",
              "      <th>0</th>\n",
              "      <td>As U.S. budget fight looms, Republicans flip t...</td>\n",
              "      <td>WASHINGTON (Reuters) - The head of a conservat...</td>\n",
              "      <td>politicsNews</td>\n",
              "      <td>December 31, 2017</td>\n",
              "    </tr>\n",
              "    <tr>\n",
              "      <th>1</th>\n",
              "      <td>U.S. military to accept transgender recruits o...</td>\n",
              "      <td>WASHINGTON (Reuters) - Transgender people will...</td>\n",
              "      <td>politicsNews</td>\n",
              "      <td>December 29, 2017</td>\n",
              "    </tr>\n",
              "    <tr>\n",
              "      <th>2</th>\n",
              "      <td>Senior U.S. Republican senator: 'Let Mr. Muell...</td>\n",
              "      <td>WASHINGTON (Reuters) - The special counsel inv...</td>\n",
              "      <td>politicsNews</td>\n",
              "      <td>December 31, 2017</td>\n",
              "    </tr>\n",
              "    <tr>\n",
              "      <th>3</th>\n",
              "      <td>FBI Russia probe helped by Australian diplomat...</td>\n",
              "      <td>WASHINGTON (Reuters) - Trump campaign adviser ...</td>\n",
              "      <td>politicsNews</td>\n",
              "      <td>December 30, 2017</td>\n",
              "    </tr>\n",
              "    <tr>\n",
              "      <th>4</th>\n",
              "      <td>Trump wants Postal Service to charge 'much mor...</td>\n",
              "      <td>SEATTLE/WASHINGTON (Reuters) - President Donal...</td>\n",
              "      <td>politicsNews</td>\n",
              "      <td>December 29, 2017</td>\n",
              "    </tr>\n",
              "  </tbody>\n",
              "</table>\n",
              "</div>"
            ],
            "text/plain": [
              "                                               title  ...                date\n",
              "0  As U.S. budget fight looms, Republicans flip t...  ...  December 31, 2017 \n",
              "1  U.S. military to accept transgender recruits o...  ...  December 29, 2017 \n",
              "2  Senior U.S. Republican senator: 'Let Mr. Muell...  ...  December 31, 2017 \n",
              "3  FBI Russia probe helped by Australian diplomat...  ...  December 30, 2017 \n",
              "4  Trump wants Postal Service to charge 'much mor...  ...  December 29, 2017 \n",
              "\n",
              "[5 rows x 4 columns]"
            ]
          },
          "metadata": {},
          "execution_count": 3
        }
      ]
    },
    {
      "cell_type": "code",
      "metadata": {
        "id": "AJbGeANvM6cZ",
        "colab": {
          "base_uri": "https://localhost:8080/",
          "height": 206
        },
        "outputId": "b54a8088-4a6d-40d6-f781-78542a95a24d"
      },
      "source": [
        "# dropping the date column as it is of no use\n",
        "true_news.drop(['date'],axis=1,inplace=True)\n",
        "true_news.head()"
      ],
      "execution_count": null,
      "outputs": [
        {
          "output_type": "execute_result",
          "data": {
            "text/html": [
              "<div>\n",
              "<style scoped>\n",
              "    .dataframe tbody tr th:only-of-type {\n",
              "        vertical-align: middle;\n",
              "    }\n",
              "\n",
              "    .dataframe tbody tr th {\n",
              "        vertical-align: top;\n",
              "    }\n",
              "\n",
              "    .dataframe thead th {\n",
              "        text-align: right;\n",
              "    }\n",
              "</style>\n",
              "<table border=\"1\" class=\"dataframe\">\n",
              "  <thead>\n",
              "    <tr style=\"text-align: right;\">\n",
              "      <th></th>\n",
              "      <th>title</th>\n",
              "      <th>text</th>\n",
              "      <th>subject</th>\n",
              "    </tr>\n",
              "  </thead>\n",
              "  <tbody>\n",
              "    <tr>\n",
              "      <th>0</th>\n",
              "      <td>As U.S. budget fight looms, Republicans flip t...</td>\n",
              "      <td>WASHINGTON (Reuters) - The head of a conservat...</td>\n",
              "      <td>politicsNews</td>\n",
              "    </tr>\n",
              "    <tr>\n",
              "      <th>1</th>\n",
              "      <td>U.S. military to accept transgender recruits o...</td>\n",
              "      <td>WASHINGTON (Reuters) - Transgender people will...</td>\n",
              "      <td>politicsNews</td>\n",
              "    </tr>\n",
              "    <tr>\n",
              "      <th>2</th>\n",
              "      <td>Senior U.S. Republican senator: 'Let Mr. Muell...</td>\n",
              "      <td>WASHINGTON (Reuters) - The special counsel inv...</td>\n",
              "      <td>politicsNews</td>\n",
              "    </tr>\n",
              "    <tr>\n",
              "      <th>3</th>\n",
              "      <td>FBI Russia probe helped by Australian diplomat...</td>\n",
              "      <td>WASHINGTON (Reuters) - Trump campaign adviser ...</td>\n",
              "      <td>politicsNews</td>\n",
              "    </tr>\n",
              "    <tr>\n",
              "      <th>4</th>\n",
              "      <td>Trump wants Postal Service to charge 'much mor...</td>\n",
              "      <td>SEATTLE/WASHINGTON (Reuters) - President Donal...</td>\n",
              "      <td>politicsNews</td>\n",
              "    </tr>\n",
              "  </tbody>\n",
              "</table>\n",
              "</div>"
            ],
            "text/plain": [
              "                                               title  ...       subject\n",
              "0  As U.S. budget fight looms, Republicans flip t...  ...  politicsNews\n",
              "1  U.S. military to accept transgender recruits o...  ...  politicsNews\n",
              "2  Senior U.S. Republican senator: 'Let Mr. Muell...  ...  politicsNews\n",
              "3  FBI Russia probe helped by Australian diplomat...  ...  politicsNews\n",
              "4  Trump wants Postal Service to charge 'much mor...  ...  politicsNews\n",
              "\n",
              "[5 rows x 3 columns]"
            ]
          },
          "metadata": {},
          "execution_count": 4
        }
      ]
    },
    {
      "cell_type": "code",
      "metadata": {
        "id": "vt-DfRM6NOKL",
        "colab": {
          "base_uri": "https://localhost:8080/",
          "height": 206
        },
        "outputId": "0497d689-1c33-4758-e565-a7901088bc30"
      },
      "source": [
        "# now importing the fake news dataset\n",
        "fake_news= pd.read_csv(\"/content/drive/MyDrive/Ed/Fake.csv\")\n",
        "fake_news.head()"
      ],
      "execution_count": null,
      "outputs": [
        {
          "output_type": "execute_result",
          "data": {
            "text/html": [
              "<div>\n",
              "<style scoped>\n",
              "    .dataframe tbody tr th:only-of-type {\n",
              "        vertical-align: middle;\n",
              "    }\n",
              "\n",
              "    .dataframe tbody tr th {\n",
              "        vertical-align: top;\n",
              "    }\n",
              "\n",
              "    .dataframe thead th {\n",
              "        text-align: right;\n",
              "    }\n",
              "</style>\n",
              "<table border=\"1\" class=\"dataframe\">\n",
              "  <thead>\n",
              "    <tr style=\"text-align: right;\">\n",
              "      <th></th>\n",
              "      <th>title</th>\n",
              "      <th>text</th>\n",
              "      <th>subject</th>\n",
              "      <th>date</th>\n",
              "    </tr>\n",
              "  </thead>\n",
              "  <tbody>\n",
              "    <tr>\n",
              "      <th>0</th>\n",
              "      <td>Donald Trump Sends Out Embarrassing New Year’...</td>\n",
              "      <td>Donald Trump just couldn t wish all Americans ...</td>\n",
              "      <td>News</td>\n",
              "      <td>December 31, 2017</td>\n",
              "    </tr>\n",
              "    <tr>\n",
              "      <th>1</th>\n",
              "      <td>Drunk Bragging Trump Staffer Started Russian ...</td>\n",
              "      <td>House Intelligence Committee Chairman Devin Nu...</td>\n",
              "      <td>News</td>\n",
              "      <td>December 31, 2017</td>\n",
              "    </tr>\n",
              "    <tr>\n",
              "      <th>2</th>\n",
              "      <td>Sheriff David Clarke Becomes An Internet Joke...</td>\n",
              "      <td>On Friday, it was revealed that former Milwauk...</td>\n",
              "      <td>News</td>\n",
              "      <td>December 30, 2017</td>\n",
              "    </tr>\n",
              "    <tr>\n",
              "      <th>3</th>\n",
              "      <td>Trump Is So Obsessed He Even Has Obama’s Name...</td>\n",
              "      <td>On Christmas day, Donald Trump announced that ...</td>\n",
              "      <td>News</td>\n",
              "      <td>December 29, 2017</td>\n",
              "    </tr>\n",
              "    <tr>\n",
              "      <th>4</th>\n",
              "      <td>Pope Francis Just Called Out Donald Trump Dur...</td>\n",
              "      <td>Pope Francis used his annual Christmas Day mes...</td>\n",
              "      <td>News</td>\n",
              "      <td>December 25, 2017</td>\n",
              "    </tr>\n",
              "  </tbody>\n",
              "</table>\n",
              "</div>"
            ],
            "text/plain": [
              "                                               title  ...               date\n",
              "0   Donald Trump Sends Out Embarrassing New Year’...  ...  December 31, 2017\n",
              "1   Drunk Bragging Trump Staffer Started Russian ...  ...  December 31, 2017\n",
              "2   Sheriff David Clarke Becomes An Internet Joke...  ...  December 30, 2017\n",
              "3   Trump Is So Obsessed He Even Has Obama’s Name...  ...  December 29, 2017\n",
              "4   Pope Francis Just Called Out Donald Trump Dur...  ...  December 25, 2017\n",
              "\n",
              "[5 rows x 4 columns]"
            ]
          },
          "metadata": {},
          "execution_count": 5
        }
      ]
    },
    {
      "cell_type": "code",
      "metadata": {
        "id": "czt9uY_EP7bP",
        "colab": {
          "base_uri": "https://localhost:8080/",
          "height": 206
        },
        "outputId": "aa30be6a-33d9-476f-b277-56f136e0d328"
      },
      "source": [
        "fake_news.drop(['date'],axis=1,inplace=True)\n",
        "fake_news.head()"
      ],
      "execution_count": null,
      "outputs": [
        {
          "output_type": "execute_result",
          "data": {
            "text/html": [
              "<div>\n",
              "<style scoped>\n",
              "    .dataframe tbody tr th:only-of-type {\n",
              "        vertical-align: middle;\n",
              "    }\n",
              "\n",
              "    .dataframe tbody tr th {\n",
              "        vertical-align: top;\n",
              "    }\n",
              "\n",
              "    .dataframe thead th {\n",
              "        text-align: right;\n",
              "    }\n",
              "</style>\n",
              "<table border=\"1\" class=\"dataframe\">\n",
              "  <thead>\n",
              "    <tr style=\"text-align: right;\">\n",
              "      <th></th>\n",
              "      <th>title</th>\n",
              "      <th>text</th>\n",
              "      <th>subject</th>\n",
              "    </tr>\n",
              "  </thead>\n",
              "  <tbody>\n",
              "    <tr>\n",
              "      <th>0</th>\n",
              "      <td>Donald Trump Sends Out Embarrassing New Year’...</td>\n",
              "      <td>Donald Trump just couldn t wish all Americans ...</td>\n",
              "      <td>News</td>\n",
              "    </tr>\n",
              "    <tr>\n",
              "      <th>1</th>\n",
              "      <td>Drunk Bragging Trump Staffer Started Russian ...</td>\n",
              "      <td>House Intelligence Committee Chairman Devin Nu...</td>\n",
              "      <td>News</td>\n",
              "    </tr>\n",
              "    <tr>\n",
              "      <th>2</th>\n",
              "      <td>Sheriff David Clarke Becomes An Internet Joke...</td>\n",
              "      <td>On Friday, it was revealed that former Milwauk...</td>\n",
              "      <td>News</td>\n",
              "    </tr>\n",
              "    <tr>\n",
              "      <th>3</th>\n",
              "      <td>Trump Is So Obsessed He Even Has Obama’s Name...</td>\n",
              "      <td>On Christmas day, Donald Trump announced that ...</td>\n",
              "      <td>News</td>\n",
              "    </tr>\n",
              "    <tr>\n",
              "      <th>4</th>\n",
              "      <td>Pope Francis Just Called Out Donald Trump Dur...</td>\n",
              "      <td>Pope Francis used his annual Christmas Day mes...</td>\n",
              "      <td>News</td>\n",
              "    </tr>\n",
              "  </tbody>\n",
              "</table>\n",
              "</div>"
            ],
            "text/plain": [
              "                                               title  ... subject\n",
              "0   Donald Trump Sends Out Embarrassing New Year’...  ...    News\n",
              "1   Drunk Bragging Trump Staffer Started Russian ...  ...    News\n",
              "2   Sheriff David Clarke Becomes An Internet Joke...  ...    News\n",
              "3   Trump Is So Obsessed He Even Has Obama’s Name...  ...    News\n",
              "4   Pope Francis Just Called Out Donald Trump Dur...  ...    News\n",
              "\n",
              "[5 rows x 3 columns]"
            ]
          },
          "metadata": {},
          "execution_count": 6
        }
      ]
    },
    {
      "cell_type": "code",
      "metadata": {
        "id": "c76ua41lQRnv",
        "colab": {
          "base_uri": "https://localhost:8080/",
          "height": 206
        },
        "outputId": "ecbb5e16-fe6b-49e7-cde8-7ec64641de42"
      },
      "source": [
        "# combining both datasets\n",
        "true_news['label']=1\n",
        "fake_news['label']=0\n",
        "news=pd.concat([true_news,fake_news],ignore_index=True)\n",
        "news.head()"
      ],
      "execution_count": null,
      "outputs": [
        {
          "output_type": "execute_result",
          "data": {
            "text/html": [
              "<div>\n",
              "<style scoped>\n",
              "    .dataframe tbody tr th:only-of-type {\n",
              "        vertical-align: middle;\n",
              "    }\n",
              "\n",
              "    .dataframe tbody tr th {\n",
              "        vertical-align: top;\n",
              "    }\n",
              "\n",
              "    .dataframe thead th {\n",
              "        text-align: right;\n",
              "    }\n",
              "</style>\n",
              "<table border=\"1\" class=\"dataframe\">\n",
              "  <thead>\n",
              "    <tr style=\"text-align: right;\">\n",
              "      <th></th>\n",
              "      <th>title</th>\n",
              "      <th>text</th>\n",
              "      <th>subject</th>\n",
              "      <th>label</th>\n",
              "    </tr>\n",
              "  </thead>\n",
              "  <tbody>\n",
              "    <tr>\n",
              "      <th>0</th>\n",
              "      <td>As U.S. budget fight looms, Republicans flip t...</td>\n",
              "      <td>WASHINGTON (Reuters) - The head of a conservat...</td>\n",
              "      <td>politicsNews</td>\n",
              "      <td>1</td>\n",
              "    </tr>\n",
              "    <tr>\n",
              "      <th>1</th>\n",
              "      <td>U.S. military to accept transgender recruits o...</td>\n",
              "      <td>WASHINGTON (Reuters) - Transgender people will...</td>\n",
              "      <td>politicsNews</td>\n",
              "      <td>1</td>\n",
              "    </tr>\n",
              "    <tr>\n",
              "      <th>2</th>\n",
              "      <td>Senior U.S. Republican senator: 'Let Mr. Muell...</td>\n",
              "      <td>WASHINGTON (Reuters) - The special counsel inv...</td>\n",
              "      <td>politicsNews</td>\n",
              "      <td>1</td>\n",
              "    </tr>\n",
              "    <tr>\n",
              "      <th>3</th>\n",
              "      <td>FBI Russia probe helped by Australian diplomat...</td>\n",
              "      <td>WASHINGTON (Reuters) - Trump campaign adviser ...</td>\n",
              "      <td>politicsNews</td>\n",
              "      <td>1</td>\n",
              "    </tr>\n",
              "    <tr>\n",
              "      <th>4</th>\n",
              "      <td>Trump wants Postal Service to charge 'much mor...</td>\n",
              "      <td>SEATTLE/WASHINGTON (Reuters) - President Donal...</td>\n",
              "      <td>politicsNews</td>\n",
              "      <td>1</td>\n",
              "    </tr>\n",
              "  </tbody>\n",
              "</table>\n",
              "</div>"
            ],
            "text/plain": [
              "                                               title  ... label\n",
              "0  As U.S. budget fight looms, Republicans flip t...  ...     1\n",
              "1  U.S. military to accept transgender recruits o...  ...     1\n",
              "2  Senior U.S. Republican senator: 'Let Mr. Muell...  ...     1\n",
              "3  FBI Russia probe helped by Australian diplomat...  ...     1\n",
              "4  Trump wants Postal Service to charge 'much mor...  ...     1\n",
              "\n",
              "[5 rows x 4 columns]"
            ]
          },
          "metadata": {},
          "execution_count": 7
        }
      ]
    },
    {
      "cell_type": "code",
      "metadata": {
        "id": "Uo7hXaP_K-b3",
        "colab": {
          "base_uri": "https://localhost:8080/",
          "height": 423
        },
        "outputId": "03ed0c4a-ca42-4832-ebc8-4564ded18d08"
      },
      "source": [
        "\n",
        "news.drop([\"title\"] , axis=1, inplace= True )\n",
        "news.drop([\"subject\"] , axis=1 , inplace = True)\n",
        "news"
      ],
      "execution_count": null,
      "outputs": [
        {
          "output_type": "execute_result",
          "data": {
            "text/html": [
              "<div>\n",
              "<style scoped>\n",
              "    .dataframe tbody tr th:only-of-type {\n",
              "        vertical-align: middle;\n",
              "    }\n",
              "\n",
              "    .dataframe tbody tr th {\n",
              "        vertical-align: top;\n",
              "    }\n",
              "\n",
              "    .dataframe thead th {\n",
              "        text-align: right;\n",
              "    }\n",
              "</style>\n",
              "<table border=\"1\" class=\"dataframe\">\n",
              "  <thead>\n",
              "    <tr style=\"text-align: right;\">\n",
              "      <th></th>\n",
              "      <th>text</th>\n",
              "      <th>label</th>\n",
              "    </tr>\n",
              "  </thead>\n",
              "  <tbody>\n",
              "    <tr>\n",
              "      <th>0</th>\n",
              "      <td>WASHINGTON (Reuters) - The head of a conservat...</td>\n",
              "      <td>1</td>\n",
              "    </tr>\n",
              "    <tr>\n",
              "      <th>1</th>\n",
              "      <td>WASHINGTON (Reuters) - Transgender people will...</td>\n",
              "      <td>1</td>\n",
              "    </tr>\n",
              "    <tr>\n",
              "      <th>2</th>\n",
              "      <td>WASHINGTON (Reuters) - The special counsel inv...</td>\n",
              "      <td>1</td>\n",
              "    </tr>\n",
              "    <tr>\n",
              "      <th>3</th>\n",
              "      <td>WASHINGTON (Reuters) - Trump campaign adviser ...</td>\n",
              "      <td>1</td>\n",
              "    </tr>\n",
              "    <tr>\n",
              "      <th>4</th>\n",
              "      <td>SEATTLE/WASHINGTON (Reuters) - President Donal...</td>\n",
              "      <td>1</td>\n",
              "    </tr>\n",
              "    <tr>\n",
              "      <th>...</th>\n",
              "      <td>...</td>\n",
              "      <td>...</td>\n",
              "    </tr>\n",
              "    <tr>\n",
              "      <th>44893</th>\n",
              "      <td>21st Century Wire says As 21WIRE reported earl...</td>\n",
              "      <td>0</td>\n",
              "    </tr>\n",
              "    <tr>\n",
              "      <th>44894</th>\n",
              "      <td>21st Century Wire says It s a familiar theme. ...</td>\n",
              "      <td>0</td>\n",
              "    </tr>\n",
              "    <tr>\n",
              "      <th>44895</th>\n",
              "      <td>Patrick Henningsen  21st Century WireRemember ...</td>\n",
              "      <td>0</td>\n",
              "    </tr>\n",
              "    <tr>\n",
              "      <th>44896</th>\n",
              "      <td>21st Century Wire says Al Jazeera America will...</td>\n",
              "      <td>0</td>\n",
              "    </tr>\n",
              "    <tr>\n",
              "      <th>44897</th>\n",
              "      <td>21st Century Wire says As 21WIRE predicted in ...</td>\n",
              "      <td>0</td>\n",
              "    </tr>\n",
              "  </tbody>\n",
              "</table>\n",
              "<p>44898 rows × 2 columns</p>\n",
              "</div>"
            ],
            "text/plain": [
              "                                                    text  label\n",
              "0      WASHINGTON (Reuters) - The head of a conservat...      1\n",
              "1      WASHINGTON (Reuters) - Transgender people will...      1\n",
              "2      WASHINGTON (Reuters) - The special counsel inv...      1\n",
              "3      WASHINGTON (Reuters) - Trump campaign adviser ...      1\n",
              "4      SEATTLE/WASHINGTON (Reuters) - President Donal...      1\n",
              "...                                                  ...    ...\n",
              "44893  21st Century Wire says As 21WIRE reported earl...      0\n",
              "44894  21st Century Wire says It s a familiar theme. ...      0\n",
              "44895  Patrick Henningsen  21st Century WireRemember ...      0\n",
              "44896  21st Century Wire says Al Jazeera America will...      0\n",
              "44897  21st Century Wire says As 21WIRE predicted in ...      0\n",
              "\n",
              "[44898 rows x 2 columns]"
            ]
          },
          "metadata": {},
          "execution_count": 8
        }
      ]
    },
    {
      "cell_type": "code",
      "metadata": {
        "colab": {
          "base_uri": "https://localhost:8080/"
        },
        "id": "IADcQOBwQURF",
        "outputId": "ea8e0c72-8231-4fb3-b2c3-8fb85b9c8ee1"
      },
      "source": [
        "consumer_key= \"YLSWMHmivHETKDIP7Akda7YwK\"\n",
        "consumer_secret= \"y9szvPi2yYt0YgrT3jfJ9NU8RUTavolrTZ09AdXcq5Wgkk9hDE\"\n",
        "access_token= \"1442231184654671876-mpjHPxyuq468cx82XfDrUgVczvuIIm\"\n",
        "access_token_secret= \"eFzqJeLP1lTEugMxt6agFPARAJWzkjHO5Qu2zWyfutmWJ\"\n",
        "auth = tw.OAuthHandler(consumer_key, consumer_secret)\n",
        "auth.set_access_token(access_token, access_token_secret)\n",
        "api = tw.API(auth, wait_on_rate_limit=True)\n",
        "api"
      ],
      "execution_count": null,
      "outputs": [
        {
          "output_type": "execute_result",
          "data": {
            "text/plain": [
              "<tweepy.api.API at 0x7fc599369b50>"
            ]
          },
          "metadata": {},
          "execution_count": 9
        }
      ]
    },
    {
      "cell_type": "markdown",
      "metadata": {
        "id": "AoJf2Z_eQbIk"
      },
      "source": [
        "#Define the search term and the date_since date as variables."
      ]
    },
    {
      "cell_type": "code",
      "metadata": {
        "id": "k_NCC9uxQdW-"
      },
      "source": [
        "search_words = \"#news\"\n",
        "date_since = \"2020-06-11\"\n",
        "date_untill=\"2021-10-01\""
      ],
      "execution_count": null,
      "outputs": []
    },
    {
      "cell_type": "code",
      "metadata": {
        "id": "qicVz0XiQidh"
      },
      "source": [
        "tweets = tw.Cursor(api.search,\n",
        "              q=search_words,\n",
        "              lang=\"en\",\n",
        "              since=date_since,untill =date_untill).items(100)"
      ],
      "execution_count": null,
      "outputs": []
    },
    {
      "cell_type": "code",
      "metadata": {
        "id": "MhForu63Qq4Z"
      },
      "source": [
        "tweets = tw.Cursor(api.search,\n",
        "              q=search_words,\n",
        "              lang=\"en\",\n",
        "              since=date_since,until=date_untill).items(100)\n",
        "\n",
        "# Iterate and print tweets\n",
        "for tweet in tweets:\n",
        "    print(tweet.text)"
      ],
      "execution_count": null,
      "outputs": []
    },
    {
      "cell_type": "markdown",
      "metadata": {
        "id": "Rjp1epjtQxLB"
      },
      "source": [
        "# Collection of tweets with the tweets"
      ]
    },
    {
      "cell_type": "code",
      "metadata": {
        "colab": {
          "base_uri": "https://localhost:8080/"
        },
        "id": "KDFX3IXTQzC_",
        "outputId": "26947041-1698-4bc9-bcc3-b355ae0e6755"
      },
      "source": [
        "tweets = tw.Cursor(api.search,\n",
        "                       q=search_words,\n",
        "                       lang=\"en\",\n",
        "                       since=date_since,untill= date_untill).items(100)\n",
        "\n",
        "# Collect a list of tweets\n",
        "[tweet.text for tweet in tweets]\n"
      ],
      "execution_count": null,
      "outputs": [
        {
          "output_type": "execute_result",
          "data": {
            "text/plain": [
              "['The Vegan Prince &amp; Clean Energy\\n\\nhttps://t.co/bsAAAiHoC3\\n\\n#TsemRinpoche #DorjeShugden #Kechara #Asia #China #Europe… https://t.co/gcfa1Bia6K',\n",
              " 'RT @nhk_musicjp: 🌎#SONGSOFTOKYO Festival 2021🌎\\n\\n🌟Artist lineup for Part 3🌟\\n\\n🔸[#Alexandros]\\n🔸#NEWS Feat. #ShonenNinja / #Johnny’sJr.\\n🔸#Midor…',\n",
              " 'RT @TheWhiskyBiz: Lagavulin launches its 2021 Islay jazz festival bottling: https://t.co/cN9JcZ9JBq @LagavulinWhisky @DiageoGB #scotch #whi…',\n",
              " 'RT @ProtestNews_EN: Austria Flag of Austria Graz 17.11.2021 at 21.27\\n\\n\"Attention, second popular action in progress, in another city, secon…',\n",
              " 'Make Your Feet Happy With These Shoe Tips - https://t.co/VZ0nTWavgP #shoeshopping #shoestyles #News https://t.co/MFWoRNePUS',\n",
              " 'RT @TheWhiskyBiz: Glasgow Distillery launches three new 1770 limited editions: https://t.co/GuVbqR907e @GlasgowDC @1770Whisky #scotch #whis…',\n",
              " 'corruption are #corruption #covid #trump #truth #politics #bluewave #news #corruptgovernment #governmentcorruption… https://t.co/WvhZTdBiWd',\n",
              " '☏ COVID?19 Pandemic?Related Stressors and Posttraumatic Stress: The Main, Moderating ... #News… https://t.co/q29Z32jlE1',\n",
              " '#tamilnews #news #tamilserials #TamilNadu #tamil #tamilnadu #tamilcenima #tamilactors #tamilactress\\nBaakiyalakshmi… https://t.co/aCilPi5WQ0',\n",
              " 'RT @TheWhiskyBiz: Singleton launches new 39 Year Old single malt https://t.co/yjN1kGzKbP @SingletonWhisky @DiageoGB #scotch #whisky #news h…',\n",
              " '#tamilnews #news #tamilserials #TamilNadu #tamil #tamilnadu #tamilcenima #tamilactors #tamilactress\\nBaakiyalakshmi… https://t.co/3tS9l0IrQt',\n",
              " '#tamilnews #news #tamilserials #TamilNadu #tamil #tamilnadu #tamilcenima #tamilactors #tamilactress\\nPandian Stores… https://t.co/KebBRWgz7d',\n",
              " '#tamilnews #news #tamilserials #TamilNadu #tamil #tamilnadu #tamilcenima #tamilactors #tamilactress\\nஇந்தியா இன்று |… https://t.co/QHzp4NDlSv',\n",
              " '#tamilnews #news #tamilserials #TamilNadu #tamil #tamilnadu #tamilcenima #tamilactors #tamilactress\\nகுறுஞ்செய்தி |… https://t.co/E6J5t7j8ek',\n",
              " 'RT @TheWhiskyBiz: Walsh Whiskey acquired by Amber Beverage Group: https://t.co/9OQxPqV0Cg @WalshWhiskey #irish #whiskey #news https://t.co/…',\n",
              " 'RT @smorffer: ‘My Name”s Han So-hee in talks to join K-drama starring ‘Squid Game”s Wi Ha-joon https://t.co/fbUKjsGTY3 (#Siguemeytesigo) (#…',\n",
              " 'RT @TheWhiskyBiz: Walsh Whiskey acquired by Amber Beverage Group: https://t.co/9OQxPqV0Cg @WalshWhiskey #irish #whiskey #news https://t.co/…',\n",
              " '#tamilnews #news #tamilserials #TamilNadu #tamil #tamilnadu #tamilcenima #tamilactors #tamilactress\\nBaakiyalakshmi… https://t.co/N3tfyQ3bEy',\n",
              " 'Fidelity Receives Canada’s Digital Asset Custody License To Handle Bitcoin For Institutional Investors.… https://t.co/khMFfeO3pv',\n",
              " 'Editorial: Why Leon Edwards deserves a title fight against Kamaru Usman #MMA #MMATwitter #MMA #retweet #UFC267… https://t.co/oLeknlYOkK',\n",
              " '#tamilnews #news #tamilserials #TamilNadu #tamil #tamilnadu #tamilcenima #tamilactors #tamilactress\\nகுறுஞ்செய்தி |… https://t.co/UCag8nuXvt',\n",
              " '#tamilnews #news #tamilserials #TamilNadu #tamil #tamilnadu #tamilcenima #tamilactors #tamilactress\\nBaakiyalakshmi… https://t.co/jYmYa4jt4g',\n",
              " '#tamilnews #news #tamilserials #TamilNadu #tamil #tamilnadu #tamilcenima #tamilactors #tamilactress\\nBaakiyalakshmi… https://t.co/InOjJXiLHa',\n",
              " 'RT @smorffer: Kenny Smith Says Kobe Statue Will Calm Fans After At https://t.co/1fdjSEQsEN Arena Name Change https://t.co/Guhkhwqgrl (#Sigu…',\n",
              " '#tamilnews #news #tamilserials #TamilNadu #tamil #tamilnadu #tamilcenima #tamilactors #tamilactress\\nPandian Stores… https://t.co/5EASIxzE3D',\n",
              " 'RT @RPRNANews: Google Assistant will simplify COVID-19 vaccination appointments in India \\n#GoogleAssistant #News #India #Covid19\\nhttps://t.…',\n",
              " 'RT @smorffer: Gorilla Glue Girl Records Song About Ordeal, Snubbed by Nicki Minaj https://t.co/bmcOLmjCQl (#Siguemeytesigo) (#Followback) (…',\n",
              " 'Pedestrian seriously injured in hit-and-run near Lake Shore and Bathurst via /r/toronto https://t.co/5dkGXlSKCG #news #toronto #thesix',\n",
              " '512 cases of COVID-19 in Ontario. 54 in Toronto. 28931 tests completed. 274 Currently in Hospital, 133 Currently in… https://t.co/ejDZcygexB',\n",
              " 'People (The Accessibility for Ontarians with Disabilities Act Alliance) want Toronto to get rid of delivery robots… https://t.co/rx5DLHhkaJ',\n",
              " \"Stop reporting vaccine mandates as 'extortion': Toronto Police via /r/toronto https://t.co/fV0uIY4lPY #news #toronto #thesix\",\n",
              " 'Physicist who found a way to trap light wins $1M science prize: University of Toronto professor Sajeev John is 2021… https://t.co/1YkM28EIPT',\n",
              " 'The Happy Hunters | How an army of volunteers inoculated Ontario via /r/toronto https://t.co/DE4cwYcXBo #news #toronto #thesix',\n",
              " 'Lagavulin launches its 2021 Islay jazz festival bottling: https://t.co/cN9JcZ9JBq @LagavulinWhisky @DiageoGB… https://t.co/kofQ88BnE0',\n",
              " \"Parkdale teacher who wore Blackface to class on Oct. 29 'no longer employed' by the TDSB via /r/toronto… https://t.co/CfwonLKrRe\",\n",
              " 'New trailer for Turning Red brings a lot of Toronto goodness via /r/toronto https://t.co/0AomJ0SjRC #news #toronto #thesix',\n",
              " '15-year-old victim identified after triple stabbing at North York high school via /r/toronto https://t.co/rWcDDMkUsc #news #toronto #thesix',\n",
              " 'CBC Radio most listened to station in Toronto via /r/toronto https://t.co/egkGEDgUKO #news #toronto #thesix',\n",
              " 'UK under-18s with Covid advised to wait 12 weeks for vaccine dose\\nhttps://t.co/ltP23uZQ9D\\n\\n#covid19vaccine… https://t.co/vnJrdva35c',\n",
              " 'RT @malaymail: The Japanese department store announced the sad news yesterday on its Facebook page.\\n\\n#Isetan #Japan #Oneutama #Malaysia #Ne…',\n",
              " 'RT @thecryptobasic: Binance CEO, Changpeng Zhao Only Holds Two Crypto And Plans To Donate 99% Of His Wealth.\\n\\nhttps://t.co/HtbptzZvgh\\n\\n@cz_…',\n",
              " 'Glasgow Distillery launches three new 1770 limited editions: https://t.co/GuVbqR907e @GlasgowDC @1770Whisky #scotch… https://t.co/0uZaXqig7F',\n",
              " 'RT @ubnm: Black SUV believed to be connected to shooting of teens in Aurora is found NotValidURL (via The Denver Post) #news #Trending #Tre…',\n",
              " \"Listen to today's #news here: https://t.co/y8H3dbky3R\",\n",
              " 'Introduction to the Six Perfections\\n\\nhttps://t.co/HHeff7O7Zn\\n\\n#TsemRinpoche #DorjeShugden #Kechara #Asia #China… https://t.co/lzm4crhbhx',\n",
              " 'corruption are #corruption #covid #trump #truth #politics #bluewave #news #corruptgovernment #governmentcorruption… https://t.co/AThFWL1OM4',\n",
              " 'Singleton launches new 39 Year Old single malt https://t.co/yjN1kGzKbP @SingletonWhisky @DiageoGB #scotch #whisky… https://t.co/qUrFr5q33l',\n",
              " 'RT @6Exlusive: Uh-oh not again … sleepy joe dozes off at the global climate conference in Scotland, Someone get size 4 diapers NOW! we got…',\n",
              " 'Walsh Whiskey acquired by Amber Beverage Group: https://t.co/9OQxPqV0Cg @WalshWhiskey #irish #whiskey #news https://t.co/kEbW3wu5Rg',\n",
              " 'Toyota Fortuner Legender 4x4 AT: Test drive and observations #news https://t.co/SIUHFIaHN4',\n",
              " 'Toyota Fortuner Legender 4x4 AT: Test drive and observations #news https://t.co/4KL6lvLiBV',\n",
              " 'RT @AlexSchmidgal: The anticipation rises, one more day, it will be great: 💯🚀\\n\\nNovember 19th:\\n- Swap activated for EGLD / MEX\\n- All farm re…',\n",
              " \"RT @CONNECTEO_EU: 👋 Our second newsletter is out🥳\\nCheck it out here: https://t.co/lH4TSDWjnW\\nIf you don't want to miss the next one, don't…\",\n",
              " 'Black SUV believed to be connected to shooting of teens in Aurora is found NotValidURL (via The Denver Post) #news #Trending #TrendingNews',\n",
              " 'Warren Buffett Is Stacking Cash And Preparing For COLLAPSE... - https://t.co/nuKICKLSWR #ValueInvesting #News https://t.co/VtMnAzrZTx',\n",
              " 'Today in History https://t.co/iQR06mFWZa #news #usa #music #fashion #instagood #losangeles #media #entertainment… https://t.co/T8DN9LXcDR',\n",
              " 'High-profile execution looms for Julius Jones in Oklahoma https://t.co/grxVck6OrK #news #usa #music #fashion… https://t.co/dwsOjcjr9R',\n",
              " \"Couple's $86M award in Monsanto pesticide case stands https://t.co/YtePh2ZaSE #news #usa #music #fashion #instagood… https://t.co/wJ9zYJZbls\",\n",
              " 'How Davido raised N200m in few hours #Nigeria, #News https://t.co/opKdY7ogXO',\n",
              " 'Taliban demand release of Afghan assets in a letter to US congress https://t.co/HfN4LCBiPC #News #Afghanistan #Taliban',\n",
              " 'Striking Deere workers approve new contract promising 10% raises to 10,000 employees on third vote… https://t.co/ROnU4pG0fI',\n",
              " 'Russia not maintaining political cooperation with new Afghan authorities, envoy affirms https://t.co/DWb8IieawK #News #Afghanistan #Taliban',\n",
              " 'EPA sets timeline to weigh next steps related to Pebble Mine https://t.co/o0MBCOip3S #news #usa #music #fashion… https://t.co/IGkiScXy7i',\n",
              " 'India at UNSC Says Terrorism Continues to Pose Serious Threat to Afghanistan and Region https://t.co/ZpYA6TkgDr #News #Afghanistan #Taliban',\n",
              " 'Biden’s mental fitness drawing media scrutiny: Is that fair? https://t.co/DXltkjNW8y #news #topstories #berkleybearnews',\n",
              " 'EPA overturns approval of Mississippi Yazoo Pumps Project https://t.co/wxhIzc8DDQ #news #usa #music #fashion… https://t.co/8JVO5eQE7g',\n",
              " 'US airman shot down over Romania in WWII is accounted for https://t.co/9w8I4BcPV7 #news #usa #music #fashion… https://t.co/XozqHHXSGx',\n",
              " 'Pilot death is 2nd amid late season wildfires in Rockies https://t.co/HgO61fEOvh #news #usa #music #fashion… https://t.co/8dVDGEQnAm',\n",
              " '#supply makes #news again  #known #issue for over a year   No plans  no Comms  put it on you  @CanadianPM @FinanceCanada',\n",
              " 'corruption are #corruption #covid #trump #truth #politics #bluewave #news #corruptgovernment #governmentcorruption… https://t.co/RZilvO2VM7',\n",
              " 'Get Set Parent’s Children’s Literature, Art &amp; Music Festival with Vishwarang\\n\\n#education #Careers #News… https://t.co/yp8KyXw6Ks',\n",
              " \"📜Our latest Newspaper ad design for Baobab Plaza,featured in today's Daily Nation, Page 30\\n☎ Contact us today for y… https://t.co/hpmIzxNT3U\",\n",
              " 'J-K: Two militants killed in encounter in Kulgam; operation underway  #News by #EconomicTimes https://t.co/4nkjAgCUhX',\n",
              " \"kwalis6294: #RT @NuZuDu: #RT @Bitboy_Crypto: #Bitcoin will overtake silver's market cap in...\\n\\nDon't forget to… https://t.co/3tYSIlhh9K\",\n",
              " \"kwalis6294: #RT @NuZuDu: #RT @Bitboy_Crypto: 🚀 https://t.co/n93cLslPWZ\\n\\nDon't forget to #follow for more… https://t.co/be1gPeXGiF\",\n",
              " 'kwalis6294: #RT @NuZuDu: RT @BigBlackCoin1: @disclosetv Isn’t weird so many volcanoes these days ??? Who is pressin… https://t.co/pjoIDvp2Yd',\n",
              " 'kwalis6294: #RT @NuZuDu: RT @ShainesWetter: @ShibReports @amazon This is not an update.\\nThis is not a news report.… https://t.co/zziVfXLaQG',\n",
              " \"kwalis6294: #RT @NuZuDu: RT @PrinceAli181: @ShibReports rumors=🤡, post facts or get unfollowed 👎\\n\\nDon't forget to… https://t.co/ij1XDJfvGO\",\n",
              " 'Digital Illustrations for children https://t.co/z5NPDU6ZLl #news #feedly',\n",
              " 'kwalis6294: #RT @NuZuDu: RT @ShibReports: UPDATE: Starting to hear a lot of rumors about @amazon potentially accept… https://t.co/Uxygk7iRBn',\n",
              " 'kwalis6294: #RT @NuZuDu: NASA Invites Media to Webb Telescope Science Briefings #Breaking now via NASA… https://t.co/9gELigvTdM',\n",
              " 'RT @progresspowerau: An exciting look at the Australia-first solar energy facility that will make Melbourne a leader in renewable energy te…',\n",
              " 'kwalis6294: #RT @NuZuDu: NASA Invites Media to Webb Telescope Science Briefings #Breaking now via NASA… https://t.co/r9cvDmiQQR',\n",
              " '21 Taras of Tara Walk\\n\\nhttps://t.co/1uz2rfgscq\\n\\n#TsemRinpoche #DorjeShugden #Kechara #Asia #China #Europe… https://t.co/TjHEcD1oMB',\n",
              " '‘Could be used to punish media professionals’: HRW condemns new Greek media law – Newslaundry\\n\\nChronLaw Media Law N… https://t.co/WEPLLqYbE4',\n",
              " '‘My Name”s Han So-hee in talks to join K-drama starring ‘Squid Game”s Wi Ha-joon https://t.co/fbUKjsGTY3 (… https://t.co/K4YVWiJxs9',\n",
              " 'RT @nhk_musicjp: 🌎#SONGSOFTOKYO Festival 2021🌎\\n\\n🌟Artist lineup for Part 3🌟\\n\\n🔸[#Alexandros]\\n🔸#NEWS Feat. #ShonenNinja / #Johnny’sJr.\\n🔸#Midor…',\n",
              " 'Pakistan Parliament passes bill to grant Kulbhushan Jadhav right to appeal against conviction – Jagran Josh\\n\\nChronL… https://t.co/pgnG1IZ446',\n",
              " 'RT @many_labs: 𝐓𝐎𝐏 𝐄𝐗𝐂𝐇𝐀𝐍𝐆𝐄𝐒 𝐓𝐑𝐀𝐃𝐈𝐍𝐆 𝐕𝐎𝐋𝐔𝐌𝐄 𝐋𝐀𝐒𝐓 𝟐𝟒𝐇\\n\\n@Uniswap @binance @OKEx @FTX_Official @HuobiGlobal @upbitglobal @biteniumExchang @Coi…',\n",
              " 'RT @RADMagazine: ZiFix Traverse completes range of SBRT compression solutions.\\n\\nhttps://t.co/kPxY0l7fWz\\n\\n@OncologyImaging\\n\\n#RADMagazine #me…',\n",
              " 'RT @TyrekeBakerTBT: #Breaking #News students from Classen SAS are marching to the Oklahoma Capitol after walking out in support of Julius J…',\n",
              " 'Instagram now requires video selfies for verification for new users #Technology #News https://t.co/uBBenTJkia',\n",
              " \"Air pollution didn't drop in Covid lockdown, rather ozone levels rose\\n\\nhttps://t.co/Q7Pq9yod1Y\\n\\n#airpollution… https://t.co/VERx8CUH7v\",\n",
              " 'Android 12L will leave developers fewer excuses to snub tablets #Technology #News https://t.co/jyrAhlXGXT',\n",
              " 'Samsung Galaxy Tab S8 series may be delayed, here’s why #Technology #News https://t.co/PWG3aop7NP',\n",
              " 'RT @CCK_ventures: Record: Fidelity Charitable Has Received Over $270 Million in Crypto Donations in 2021\\n\\n@FidelityChrtbl #FidelityCharitab…',\n",
              " 'Caught on cam: Leopard strays into Ghaziabad locality | Ghaziabad News -  (For global #wildlife #news, visit… https://t.co/DqmuE3bt6j',\n",
              " 'Galaxy Tab S8 could be delayed by new COVID-19 cases #Technology #News https://t.co/uXH2nNUVdB',\n",
              " 'Butterfly rearing centre developed at Bodh Gaya | Patna News -  (For global #wildlife #news, visit #wildtrails at… https://t.co/JluDTwDZTB',\n",
              " 'Superior Man Now Federally Charged In Twin Ports Day-Long Crime Spree – FOX 21 Online\\n\\nChronLaw Criminal Law News\\na… https://t.co/CupjLvx3cv']"
            ]
          },
          "metadata": {},
          "execution_count": 13
        }
      ]
    },
    {
      "cell_type": "code",
      "metadata": {
        "colab": {
          "base_uri": "https://localhost:8080/",
          "height": 35
        },
        "id": "BVZIscjnQ6vJ",
        "outputId": "ca7af2c2-120d-4b8f-d2d4-9c1d757d07cb"
      },
      "source": [
        "new_search = search_words + \" -filter:retweets\"\n",
        "new_search"
      ],
      "execution_count": null,
      "outputs": [
        {
          "output_type": "execute_result",
          "data": {
            "application/vnd.google.colaboratory.intrinsic+json": {
              "type": "string"
            },
            "text/plain": [
              "'#news -filter:retweets'"
            ]
          },
          "metadata": {},
          "execution_count": 14
        }
      ]
    },
    {
      "cell_type": "code",
      "metadata": {
        "colab": {
          "base_uri": "https://localhost:8080/"
        },
        "id": "JDB0ULbNQ8AP",
        "outputId": "0dbbf2f9-4188-4e30-e62c-523d6774560a"
      },
      "source": [
        "\n",
        "tweets = tw.Cursor(api.search,\n",
        "                       q=new_search,\n",
        "                       lang=\"en\",\n",
        "                       since=date_since).items(100)\n",
        "\n",
        "[tweet.text for tweet in tweets]"
      ],
      "execution_count": null,
      "outputs": [
        {
          "output_type": "execute_result",
          "data": {
            "text/plain": [
              "['The Vegan Prince &amp; Clean Energy\\n\\nhttps://t.co/bsAAAiHoC3\\n\\n#TsemRinpoche #DorjeShugden #Kechara #Asia #China #Europe… https://t.co/gcfa1Bia6K',\n",
              " 'Make Your Feet Happy With These Shoe Tips - https://t.co/VZ0nTWavgP #shoeshopping #shoestyles #News https://t.co/MFWoRNePUS',\n",
              " 'corruption are #corruption #covid #trump #truth #politics #bluewave #news #corruptgovernment #governmentcorruption… https://t.co/WvhZTdBiWd',\n",
              " '☏ COVID?19 Pandemic?Related Stressors and Posttraumatic Stress: The Main, Moderating ... #News… https://t.co/q29Z32jlE1',\n",
              " '#tamilnews #news #tamilserials #TamilNadu #tamil #tamilnadu #tamilcenima #tamilactors #tamilactress\\nBaakiyalakshmi… https://t.co/aCilPi5WQ0',\n",
              " '#tamilnews #news #tamilserials #TamilNadu #tamil #tamilnadu #tamilcenima #tamilactors #tamilactress\\nBaakiyalakshmi… https://t.co/3tS9l0IrQt',\n",
              " '#tamilnews #news #tamilserials #TamilNadu #tamil #tamilnadu #tamilcenima #tamilactors #tamilactress\\nPandian Stores… https://t.co/KebBRWgz7d',\n",
              " '#tamilnews #news #tamilserials #TamilNadu #tamil #tamilnadu #tamilcenima #tamilactors #tamilactress\\nஇந்தியா இன்று |… https://t.co/QHzp4NDlSv',\n",
              " '#tamilnews #news #tamilserials #TamilNadu #tamil #tamilnadu #tamilcenima #tamilactors #tamilactress\\nகுறுஞ்செய்தி |… https://t.co/E6J5t7j8ek',\n",
              " '#tamilnews #news #tamilserials #TamilNadu #tamil #tamilnadu #tamilcenima #tamilactors #tamilactress\\nBaakiyalakshmi… https://t.co/N3tfyQ3bEy',\n",
              " 'Fidelity Receives Canada’s Digital Asset Custody License To Handle Bitcoin For Institutional Investors.… https://t.co/khMFfeO3pv',\n",
              " 'Editorial: Why Leon Edwards deserves a title fight against Kamaru Usman #MMA #MMATwitter #MMA #retweet #UFC267… https://t.co/oLeknlYOkK',\n",
              " '#tamilnews #news #tamilserials #TamilNadu #tamil #tamilnadu #tamilcenima #tamilactors #tamilactress\\nகுறுஞ்செய்தி |… https://t.co/UCag8nuXvt',\n",
              " '#tamilnews #news #tamilserials #TamilNadu #tamil #tamilnadu #tamilcenima #tamilactors #tamilactress\\nBaakiyalakshmi… https://t.co/jYmYa4jt4g',\n",
              " '#tamilnews #news #tamilserials #TamilNadu #tamil #tamilnadu #tamilcenima #tamilactors #tamilactress\\nBaakiyalakshmi… https://t.co/InOjJXiLHa',\n",
              " '#tamilnews #news #tamilserials #TamilNadu #tamil #tamilnadu #tamilcenima #tamilactors #tamilactress\\nPandian Stores… https://t.co/5EASIxzE3D',\n",
              " 'Pedestrian seriously injured in hit-and-run near Lake Shore and Bathurst via /r/toronto https://t.co/5dkGXlSKCG #news #toronto #thesix',\n",
              " '512 cases of COVID-19 in Ontario. 54 in Toronto. 28931 tests completed. 274 Currently in Hospital, 133 Currently in… https://t.co/ejDZcygexB',\n",
              " 'People (The Accessibility for Ontarians with Disabilities Act Alliance) want Toronto to get rid of delivery robots… https://t.co/rx5DLHhkaJ',\n",
              " \"Stop reporting vaccine mandates as 'extortion': Toronto Police via /r/toronto https://t.co/fV0uIY4lPY #news #toronto #thesix\",\n",
              " 'Physicist who found a way to trap light wins $1M science prize: University of Toronto professor Sajeev John is 2021… https://t.co/1YkM28EIPT',\n",
              " 'The Happy Hunters | How an army of volunteers inoculated Ontario via /r/toronto https://t.co/DE4cwYcXBo #news #toronto #thesix',\n",
              " 'Lagavulin launches its 2021 Islay jazz festival bottling: https://t.co/cN9JcZ9JBq @LagavulinWhisky @DiageoGB… https://t.co/kofQ88BnE0',\n",
              " \"Parkdale teacher who wore Blackface to class on Oct. 29 'no longer employed' by the TDSB via /r/toronto… https://t.co/CfwonLKrRe\",\n",
              " 'New trailer for Turning Red brings a lot of Toronto goodness via /r/toronto https://t.co/0AomJ0SjRC #news #toronto #thesix',\n",
              " '15-year-old victim identified after triple stabbing at North York high school via /r/toronto https://t.co/rWcDDMkUsc #news #toronto #thesix',\n",
              " 'CBC Radio most listened to station in Toronto via /r/toronto https://t.co/egkGEDgUKO #news #toronto #thesix',\n",
              " 'UK under-18s with Covid advised to wait 12 weeks for vaccine dose\\nhttps://t.co/ltP23uZQ9D\\n\\n#covid19vaccine… https://t.co/vnJrdva35c',\n",
              " 'Glasgow Distillery launches three new 1770 limited editions: https://t.co/GuVbqR907e @GlasgowDC @1770Whisky #scotch… https://t.co/0uZaXqig7F',\n",
              " \"Listen to today's #news here: https://t.co/y8H3dbky3R\",\n",
              " 'Introduction to the Six Perfections\\n\\nhttps://t.co/HHeff7O7Zn\\n\\n#TsemRinpoche #DorjeShugden #Kechara #Asia #China… https://t.co/lzm4crhbhx',\n",
              " 'corruption are #corruption #covid #trump #truth #politics #bluewave #news #corruptgovernment #governmentcorruption… https://t.co/AThFWL1OM4',\n",
              " 'Singleton launches new 39 Year Old single malt https://t.co/yjN1kGzKbP @SingletonWhisky @DiageoGB #scotch #whisky… https://t.co/qUrFr5q33l',\n",
              " 'Walsh Whiskey acquired by Amber Beverage Group: https://t.co/9OQxPqV0Cg @WalshWhiskey #irish #whiskey #news https://t.co/kEbW3wu5Rg',\n",
              " 'Toyota Fortuner Legender 4x4 AT: Test drive and observations #news https://t.co/SIUHFIaHN4',\n",
              " 'Toyota Fortuner Legender 4x4 AT: Test drive and observations #news https://t.co/4KL6lvLiBV',\n",
              " 'Black SUV believed to be connected to shooting of teens in Aurora is found NotValidURL (via The Denver Post) #news #Trending #TrendingNews',\n",
              " 'Warren Buffett Is Stacking Cash And Preparing For COLLAPSE... - https://t.co/nuKICKLSWR #ValueInvesting #News https://t.co/VtMnAzrZTx',\n",
              " 'Today in History https://t.co/iQR06mFWZa #news #usa #music #fashion #instagood #losangeles #media #entertainment… https://t.co/T8DN9LXcDR',\n",
              " 'High-profile execution looms for Julius Jones in Oklahoma https://t.co/grxVck6OrK #news #usa #music #fashion… https://t.co/dwsOjcjr9R',\n",
              " \"Couple's $86M award in Monsanto pesticide case stands https://t.co/YtePh2ZaSE #news #usa #music #fashion #instagood… https://t.co/wJ9zYJZbls\",\n",
              " 'How Davido raised N200m in few hours #Nigeria, #News https://t.co/opKdY7ogXO',\n",
              " 'Taliban demand release of Afghan assets in a letter to US congress https://t.co/HfN4LCBiPC #News #Afghanistan #Taliban',\n",
              " 'Striking Deere workers approve new contract promising 10% raises to 10,000 employees on third vote… https://t.co/ROnU4pG0fI',\n",
              " 'Russia not maintaining political cooperation with new Afghan authorities, envoy affirms https://t.co/DWb8IieawK #News #Afghanistan #Taliban',\n",
              " 'EPA sets timeline to weigh next steps related to Pebble Mine https://t.co/o0MBCOip3S #news #usa #music #fashion… https://t.co/IGkiScXy7i',\n",
              " 'India at UNSC Says Terrorism Continues to Pose Serious Threat to Afghanistan and Region https://t.co/ZpYA6TkgDr #News #Afghanistan #Taliban',\n",
              " 'Biden’s mental fitness drawing media scrutiny: Is that fair? https://t.co/DXltkjNW8y #news #topstories #berkleybearnews',\n",
              " 'EPA overturns approval of Mississippi Yazoo Pumps Project https://t.co/wxhIzc8DDQ #news #usa #music #fashion… https://t.co/8JVO5eQE7g',\n",
              " 'US airman shot down over Romania in WWII is accounted for https://t.co/9w8I4BcPV7 #news #usa #music #fashion… https://t.co/XozqHHXSGx',\n",
              " 'Pilot death is 2nd amid late season wildfires in Rockies https://t.co/HgO61fEOvh #news #usa #music #fashion… https://t.co/8dVDGEQnAm',\n",
              " '#supply makes #news again  #known #issue for over a year   No plans  no Comms  put it on you  @CanadianPM @FinanceCanada',\n",
              " 'corruption are #corruption #covid #trump #truth #politics #bluewave #news #corruptgovernment #governmentcorruption… https://t.co/RZilvO2VM7',\n",
              " 'Get Set Parent’s Children’s Literature, Art &amp; Music Festival with Vishwarang\\n\\n#education #Careers #News… https://t.co/yp8KyXw6Ks',\n",
              " \"📜Our latest Newspaper ad design for Baobab Plaza,featured in today's Daily Nation, Page 30\\n☎ Contact us today for y… https://t.co/hpmIzxNT3U\",\n",
              " 'J-K: Two militants killed in encounter in Kulgam; operation underway  #News by #EconomicTimes https://t.co/4nkjAgCUhX',\n",
              " 'Digital Illustrations for children https://t.co/z5NPDU6ZLl #news #feedly',\n",
              " '21 Taras of Tara Walk\\n\\nhttps://t.co/1uz2rfgscq\\n\\n#TsemRinpoche #DorjeShugden #Kechara #Asia #China #Europe… https://t.co/TjHEcD1oMB',\n",
              " '‘Could be used to punish media professionals’: HRW condemns new Greek media law – Newslaundry\\n\\nChronLaw Media Law N… https://t.co/WEPLLqYbE4',\n",
              " '‘My Name”s Han So-hee in talks to join K-drama starring ‘Squid Game”s Wi Ha-joon https://t.co/fbUKjsGTY3 (… https://t.co/K4YVWiJxs9',\n",
              " 'Pakistan Parliament passes bill to grant Kulbhushan Jadhav right to appeal against conviction – Jagran Josh\\n\\nChronL… https://t.co/pgnG1IZ446',\n",
              " 'Instagram now requires video selfies for verification for new users #Technology #News https://t.co/uBBenTJkia',\n",
              " \"Air pollution didn't drop in Covid lockdown, rather ozone levels rose\\n\\nhttps://t.co/Q7Pq9yod1Y\\n\\n#airpollution… https://t.co/VERx8CUH7v\",\n",
              " 'Android 12L will leave developers fewer excuses to snub tablets #Technology #News https://t.co/jyrAhlXGXT',\n",
              " 'Samsung Galaxy Tab S8 series may be delayed, here’s why #Technology #News https://t.co/PWG3aop7NP',\n",
              " 'Caught on cam: Leopard strays into Ghaziabad locality | Ghaziabad News -  (For global #wildlife #news, visit… https://t.co/DqmuE3bt6j',\n",
              " 'Galaxy Tab S8 could be delayed by new COVID-19 cases #Technology #News https://t.co/uXH2nNUVdB',\n",
              " 'Butterfly rearing centre developed at Bodh Gaya | Patna News -  (For global #wildlife #news, visit #wildtrails at… https://t.co/JluDTwDZTB',\n",
              " 'Superior Man Now Federally Charged In Twin Ports Day-Long Crime Spree – FOX 21 Online\\n\\nChronLaw Criminal Law News\\na… https://t.co/CupjLvx3cv',\n",
              " '“Whoever controls the media, controls the mind.”\\n\\n#journalism #legaljournalism #law #journalist #legaljournalist… https://t.co/O8GwhpDrOy',\n",
              " 'OnePlus 10 Pro early launch won’t benefit most buyers #Technology #News https://t.co/dR2FVSxgoI',\n",
              " 'corruption are #corruption #covid #trump #truth #politics #bluewave #news #corruptgovernment #governmentcorruption… https://t.co/YtMfBMeb3x',\n",
              " 'Pixel 6 fingerprint reader issue receives a fix via a minor update #Technology #News https://t.co/3dDCCP8629',\n",
              " 'Fortnite’s dreaded BRUTE is back, but with a very important change #Technology #News https://t.co/fa6dMCtdJN',\n",
              " 'Ugandan Motorists Rush To Kenya For Cheaper Fuel \\n\\n#BankersUpdates #Uganda #Kenya #FuelPrices #Africa #Gasolina… https://t.co/sZ1OaLdbs8',\n",
              " 'UPS taps Waymo Via Class 8 autonomous trucks to carry freight #Technology #News https://t.co/XdDS6JcDmb',\n",
              " 'The best Black Friday phone deals #Technology #News https://t.co/X91NFpIxoa',\n",
              " 'How Windows 11 May Soon Force You to Use Microsoft Edge #Technology #News https://t.co/6ZEQfdwEKw',\n",
              " 'Verizon rolls out Alexa hands-free calls with Number Share – Home #Technology #News https://t.co/xEBQEEjSiy',\n",
              " 'What Happens to My Crypto When I Die? #Technology #News https://t.co/YU9foz8Pca',\n",
              " 'Bill Gates’ nuclear power company selects a site for its first reactor #Technology #News https://t.co/dYHeADvubA',\n",
              " 'Solo travel to Las Vegas? Here are 10 fun things to do\\n👉 https://t.co/OaeFhHoygG\\n#Vacation #LasVegas #Vegas #News… https://t.co/rC28sE1B4H',\n",
              " 'Microsoft Upgrades Windows Media Player, but Will Anyone Actually Use It? #Technology #News https://t.co/n4Fy84FB2M',\n",
              " 'From https://t.co/HPhjj3G220 :\\nSolo travel to Las Vegas? Here are 10 fun things to do\\n👉 https://t.co/TufiaGz9rU… https://t.co/V52zqIj3nY',\n",
              " '4 Websites Kids Can Use to Write Books #Technology #News https://t.co/BJYDLk5Jpo',\n",
              " 'Early Access Samsung Galaxy Book Pro Deals for Black Friday 2021 #Technology #News https://t.co/xi7kjRJW8Y',\n",
              " 'The 2022 Porsche 718 Cayman GT4 RS is a serious glow-up #Technology #News https://t.co/cOQaiuj520',\n",
              " 'Binance CEO, Changpeng Zhao Only Holds Two Crypto And Plans To Donate 99% Of His Wealth.\\n\\nhttps://t.co/HtbptzZvgh… https://t.co/YdnrmnzGrW',\n",
              " 'Boosters for all is critical, not a luxury, Fauci says as FDA decision nears #Technology #News https://t.co/nFMCJ6mCkj',\n",
              " 'Listen Up: Samsung Has Early Access on Its Buds Black Friday Deals #Technology #News https://t.co/Z2n41tsWDF',\n",
              " 'Hackers backed by Iran are targeting US critical infrastructure, US warns #Technology #News https://t.co/uDbmp3yC5e',\n",
              " \"1Password 8 Arrives on Windows: Here's What's New #Technology #News https://t.co/105TD5KehC\",\n",
              " 'Tweaked barley may keep beer flowing as climate change hits crops #Technology #News https://t.co/AnokxQxx6f',\n",
              " 'Vitaly Janelt: \"If I keep the level of play right now, for me I would play my whole career in the Premier League, i… https://t.co/kQGcnfJGpK',\n",
              " 'ThreatsHub Cybersecurity News | Singaporean regulator punishes biggest-ever data breach: almost 5.9 million hotel c… https://t.co/pwqzft2DKW',\n",
              " 'Save on MacBooks, iPads, AirPods, and more with early Black Friday deals at B&amp; #Technology #News https://t.co/DE9FAaUyPn',\n",
              " 'Save on MacBooks, iPads, AirPods, and more with early Black Friday deals at B&amp;H #Technology #News https://t.co/EP1lPFkw7H',\n",
              " 'The best Black Friday tablet deals #Technology #News https://t.co/C7XsGcomVn',\n",
              " 'The Meaning Behind the Fasting Buddha Statue\\n\\nhttps://t.co/BNLgMush1Y\\n\\n#TsemRinpoche #DorjeShugden #Kechara #Asia… https://t.co/NfQvCEfhYZ',\n",
              " \"if you missed $shiib don't miss $DATX same chart with same profit targets\\n$ALGO $AXS $BNB $BTMX $UNI $ONE $COTI… https://t.co/xcZcBb0DNn\"]"
            ]
          },
          "metadata": {},
          "execution_count": 15
        }
      ]
    },
    {
      "cell_type": "code",
      "metadata": {
        "colab": {
          "base_uri": "https://localhost:8080/"
        },
        "id": "mAO7I6EM3ZQE",
        "outputId": "57b57f43-bd9b-4bd0-8449-1354fdde802f"
      },
      "source": [
        "tweets = tw.Cursor(api.search, \n",
        "                           q=new_search,\n",
        "                           lang=\"en\",\n",
        "                           since=date_since).items(100)\n",
        "\n",
        "users_locs = [[tweet.user.screen_name, tweet.user.location,tweet.text] for tweet in tweets]\n",
        "users_locs"
      ],
      "execution_count": null,
      "outputs": [
        {
          "output_type": "execute_result",
          "data": {
            "text/plain": [
              "[['AnneBlueBelle',\n",
              "  'Perak, Malaysia',\n",
              "  'The Vegan Prince &amp; Clean Energy\\n\\nhttps://t.co/bsAAAiHoC3\\n\\n#TsemRinpoche #DorjeShugden #Kechara #Asia #China #Europe… https://t.co/gcfa1Bia6K'],\n",
              " ['tvcrunch2',\n",
              "  '',\n",
              "  'Make Your Feet Happy With These Shoe Tips - https://t.co/VZ0nTWavgP #shoeshopping #shoestyles #News https://t.co/MFWoRNePUS'],\n",
              " ['supastardiva1',\n",
              "  'Stockton, CA',\n",
              "  'corruption are #corruption #covid #trump #truth #politics #bluewave #news #corruptgovernment #governmentcorruption… https://t.co/WvhZTdBiWd'],\n",
              " ['meditaudios',\n",
              "  '',\n",
              "  '☏ COVID?19 Pandemic?Related Stressors and Posttraumatic Stress: The Main, Moderating ... #News… https://t.co/q29Z32jlE1'],\n",
              " ['Littlevnews',\n",
              "  '',\n",
              "  '#tamilnews #news #tamilserials #TamilNadu #tamil #tamilnadu #tamilcenima #tamilactors #tamilactress\\nBaakiyalakshmi… https://t.co/aCilPi5WQ0'],\n",
              " ['Littlevnews',\n",
              "  '',\n",
              "  '#tamilnews #news #tamilserials #TamilNadu #tamil #tamilnadu #tamilcenima #tamilactors #tamilactress\\nBaakiyalakshmi… https://t.co/3tS9l0IrQt'],\n",
              " ['Littlevnews',\n",
              "  '',\n",
              "  '#tamilnews #news #tamilserials #TamilNadu #tamil #tamilnadu #tamilcenima #tamilactors #tamilactress\\nPandian Stores… https://t.co/KebBRWgz7d'],\n",
              " ['Littlevnews',\n",
              "  '',\n",
              "  '#tamilnews #news #tamilserials #TamilNadu #tamil #tamilnadu #tamilcenima #tamilactors #tamilactress\\nஇந்தியா இன்று |… https://t.co/QHzp4NDlSv'],\n",
              " ['Littlevnews',\n",
              "  '',\n",
              "  '#tamilnews #news #tamilserials #TamilNadu #tamil #tamilnadu #tamilcenima #tamilactors #tamilactress\\nகுறுஞ்செய்தி |… https://t.co/E6J5t7j8ek'],\n",
              " ['Littlevnews',\n",
              "  '',\n",
              "  '#tamilnews #news #tamilserials #TamilNadu #tamil #tamilnadu #tamilcenima #tamilactors #tamilactress\\nBaakiyalakshmi… https://t.co/N3tfyQ3bEy'],\n",
              " ['thecryptobasic',\n",
              "  'Global',\n",
              "  'Fidelity Receives Canada’s Digital Asset Custody License To Handle Bitcoin For Institutional Investors.… https://t.co/khMFfeO3pv'],\n",
              " ['MMA_FightNews',\n",
              "  'United Kingdom',\n",
              "  'Editorial: Why Leon Edwards deserves a title fight against Kamaru Usman #MMA #MMATwitter #MMA #retweet #UFC267… https://t.co/oLeknlYOkK'],\n",
              " ['Littlevnews',\n",
              "  '',\n",
              "  '#tamilnews #news #tamilserials #TamilNadu #tamil #tamilnadu #tamilcenima #tamilactors #tamilactress\\nகுறுஞ்செய்தி |… https://t.co/UCag8nuXvt'],\n",
              " ['Littlevnews',\n",
              "  '',\n",
              "  '#tamilnews #news #tamilserials #TamilNadu #tamil #tamilnadu #tamilcenima #tamilactors #tamilactress\\nBaakiyalakshmi… https://t.co/jYmYa4jt4g'],\n",
              " ['Littlevnews',\n",
              "  '',\n",
              "  '#tamilnews #news #tamilserials #TamilNadu #tamil #tamilnadu #tamilcenima #tamilactors #tamilactress\\nBaakiyalakshmi… https://t.co/InOjJXiLHa'],\n",
              " ['Littlevnews',\n",
              "  '',\n",
              "  '#tamilnews #news #tamilserials #TamilNadu #tamil #tamilnadu #tamilcenima #tamilactors #tamilactress\\nPandian Stores… https://t.co/5EASIxzE3D'],\n",
              " ['thenihilistkier',\n",
              "  'Probably with the birds ',\n",
              "  'Pedestrian seriously injured in hit-and-run near Lake Shore and Bathurst via /r/toronto https://t.co/5dkGXlSKCG #news #toronto #thesix'],\n",
              " ['thenihilistkier',\n",
              "  'Probably with the birds ',\n",
              "  '512 cases of COVID-19 in Ontario. 54 in Toronto. 28931 tests completed. 274 Currently in Hospital, 133 Currently in… https://t.co/ejDZcygexB'],\n",
              " ['thenihilistkier',\n",
              "  'Probably with the birds ',\n",
              "  'People (The Accessibility for Ontarians with Disabilities Act Alliance) want Toronto to get rid of delivery robots… https://t.co/rx5DLHhkaJ'],\n",
              " ['thenihilistkier',\n",
              "  'Probably with the birds ',\n",
              "  \"Stop reporting vaccine mandates as 'extortion': Toronto Police via /r/toronto https://t.co/fV0uIY4lPY #news #toronto #thesix\"],\n",
              " ['thenihilistkier',\n",
              "  'Probably with the birds ',\n",
              "  'Physicist who found a way to trap light wins $1M science prize: University of Toronto professor Sajeev John is 2021… https://t.co/1YkM28EIPT'],\n",
              " ['thenihilistkier',\n",
              "  'Probably with the birds ',\n",
              "  'The Happy Hunters | How an army of volunteers inoculated Ontario via /r/toronto https://t.co/DE4cwYcXBo #news #toronto #thesix'],\n",
              " ['TheWhiskyBiz',\n",
              "  'London',\n",
              "  'Lagavulin launches its 2021 Islay jazz festival bottling: https://t.co/cN9JcZ9JBq @LagavulinWhisky @DiageoGB… https://t.co/kofQ88BnE0'],\n",
              " ['thenihilistkier',\n",
              "  'Probably with the birds ',\n",
              "  \"Parkdale teacher who wore Blackface to class on Oct. 29 'no longer employed' by the TDSB via /r/toronto… https://t.co/CfwonLKrRe\"],\n",
              " ['thenihilistkier',\n",
              "  'Probably with the birds ',\n",
              "  'New trailer for Turning Red brings a lot of Toronto goodness via /r/toronto https://t.co/0AomJ0SjRC #news #toronto #thesix'],\n",
              " ['thenihilistkier',\n",
              "  'Probably with the birds ',\n",
              "  '15-year-old victim identified after triple stabbing at North York high school via /r/toronto https://t.co/rWcDDMkUsc #news #toronto #thesix'],\n",
              " ['thenihilistkier',\n",
              "  'Probably with the birds ',\n",
              "  'CBC Radio most listened to station in Toronto via /r/toronto https://t.co/egkGEDgUKO #news #toronto #thesix'],\n",
              " ['tryingBot05',\n",
              "  'NY',\n",
              "  'UK under-18s with Covid advised to wait 12 weeks for vaccine dose\\nhttps://t.co/ltP23uZQ9D\\n\\n#covid19vaccine… https://t.co/vnJrdva35c'],\n",
              " ['TheWhiskyBiz',\n",
              "  'London',\n",
              "  'Glasgow Distillery launches three new 1770 limited editions: https://t.co/GuVbqR907e @GlasgowDC @1770Whisky #scotch… https://t.co/0uZaXqig7F'],\n",
              " ['newsworthypod',\n",
              "  '',\n",
              "  \"Listen to today's #news here: https://t.co/y8H3dbky3R\"],\n",
              " ['AnneBlueBelle',\n",
              "  'Perak, Malaysia',\n",
              "  'Introduction to the Six Perfections\\n\\nhttps://t.co/HHeff7O7Zn\\n\\n#TsemRinpoche #DorjeShugden #Kechara #Asia #China… https://t.co/lzm4crhbhx'],\n",
              " ['supastardiva1',\n",
              "  'Stockton, CA',\n",
              "  'corruption are #corruption #covid #trump #truth #politics #bluewave #news #corruptgovernment #governmentcorruption… https://t.co/AThFWL1OM4'],\n",
              " ['TheWhiskyBiz',\n",
              "  'London',\n",
              "  'Singleton launches new 39 Year Old single malt https://t.co/yjN1kGzKbP @SingletonWhisky @DiageoGB #scotch #whisky… https://t.co/qUrFr5q33l'],\n",
              " ['TheWhiskyBiz',\n",
              "  'London',\n",
              "  'Walsh Whiskey acquired by Amber Beverage Group: https://t.co/9OQxPqV0Cg @WalshWhiskey #irish #whiskey #news https://t.co/kEbW3wu5Rg'],\n",
              " ['TheWheelYard',\n",
              "  'New Delhi, India',\n",
              "  'Toyota Fortuner Legender 4x4 AT: Test drive and observations #news https://t.co/SIUHFIaHN4'],\n",
              " ['pavitraputul',\n",
              "  'Delhi',\n",
              "  'Toyota Fortuner Legender 4x4 AT: Test drive and observations #news https://t.co/4KL6lvLiBV'],\n",
              " ['ubnm',\n",
              "  'United States',\n",
              "  'Black SUV believed to be connected to shooting of teens in Aurora is found NotValidURL (via The Denver Post) #news #Trending #TrendingNews'],\n",
              " ['valueinvesting',\n",
              "  '',\n",
              "  'Warren Buffett Is Stacking Cash And Preparing For COLLAPSE... - https://t.co/nuKICKLSWR #ValueInvesting #News https://t.co/VtMnAzrZTx'],\n",
              " ['3nd3rDm',\n",
              "  '',\n",
              "  'Today in History https://t.co/iQR06mFWZa #news #usa #music #fashion #instagood #losangeles #media #entertainment… https://t.co/T8DN9LXcDR'],\n",
              " ['3nd3rDm',\n",
              "  '',\n",
              "  'High-profile execution looms for Julius Jones in Oklahoma https://t.co/grxVck6OrK #news #usa #music #fashion… https://t.co/dwsOjcjr9R'],\n",
              " ['3nd3rDm',\n",
              "  '',\n",
              "  \"Couple's $86M award in Monsanto pesticide case stands https://t.co/YtePh2ZaSE #news #usa #music #fashion #instagood… https://t.co/wJ9zYJZbls\"],\n",
              " ['PlatinumPostNg',\n",
              "  'Nigeria',\n",
              "  'How Davido raised N200m in few hours #Nigeria, #News https://t.co/opKdY7ogXO'],\n",
              " ['RisksAssociated',\n",
              "  'Southeast Asia ',\n",
              "  'Taliban demand release of Afghan assets in a letter to US congress https://t.co/HfN4LCBiPC #News #Afghanistan #Taliban'],\n",
              " ['3nd3rDm',\n",
              "  '',\n",
              "  'Striking Deere workers approve new contract promising 10% raises to 10,000 employees on third vote… https://t.co/ROnU4pG0fI'],\n",
              " ['RisksAssociated',\n",
              "  'Southeast Asia ',\n",
              "  'Russia not maintaining political cooperation with new Afghan authorities, envoy affirms https://t.co/DWb8IieawK #News #Afghanistan #Taliban'],\n",
              " ['3nd3rDm',\n",
              "  '',\n",
              "  'EPA sets timeline to weigh next steps related to Pebble Mine https://t.co/o0MBCOip3S #news #usa #music #fashion… https://t.co/IGkiScXy7i'],\n",
              " ['RisksAssociated',\n",
              "  'Southeast Asia ',\n",
              "  'India at UNSC Says Terrorism Continues to Pose Serious Threat to Afghanistan and Region https://t.co/ZpYA6TkgDr #News #Afghanistan #Taliban'],\n",
              " ['BerkleyBearNews',\n",
              "  'Doghouse',\n",
              "  'Biden’s mental fitness drawing media scrutiny: Is that fair? https://t.co/DXltkjNW8y #news #topstories #berkleybearnews'],\n",
              " ['3nd3rDm',\n",
              "  '',\n",
              "  'EPA overturns approval of Mississippi Yazoo Pumps Project https://t.co/wxhIzc8DDQ #news #usa #music #fashion… https://t.co/8JVO5eQE7g'],\n",
              " ['3nd3rDm',\n",
              "  '',\n",
              "  'US airman shot down over Romania in WWII is accounted for https://t.co/9w8I4BcPV7 #news #usa #music #fashion… https://t.co/XozqHHXSGx'],\n",
              " ['3nd3rDm',\n",
              "  '',\n",
              "  'Pilot death is 2nd amid late season wildfires in Rockies https://t.co/HgO61fEOvh #news #usa #music #fashion… https://t.co/8dVDGEQnAm'],\n",
              " ['JustCanadianGal',\n",
              "  'World via Canada ',\n",
              "  '#supply makes #news again  #known #issue for over a year   No plans  no Comms  put it on you  @CanadianPM @FinanceCanada'],\n",
              " ['supastardiva1',\n",
              "  'Stockton, CA',\n",
              "  'corruption are #corruption #covid #trump #truth #politics #bluewave #news #corruptgovernment #governmentcorruption… https://t.co/RZilvO2VM7'],\n",
              " ['SakshiPost',\n",
              "  'Hyderabad, India',\n",
              "  'Get Set Parent’s Children’s Literature, Art &amp; Music Festival with Vishwarang\\n\\n#education #Careers #News… https://t.co/yp8KyXw6Ks'],\n",
              " ['mansionarts',\n",
              "  'Pioneer House, Kenyatta Ave.',\n",
              "  \"📜Our latest Newspaper ad design for Baobab Plaza,featured in today's Daily Nation, Page 30\\n☎ Contact us today for y… https://t.co/hpmIzxNT3U\"],\n",
              " ['MarketsCafe',\n",
              "  'India',\n",
              "  'J-K: Two militants killed in encounter in Kulgam; operation underway  #News by #EconomicTimes https://t.co/4nkjAgCUhX'],\n",
              " ['JobGuideME',\n",
              "  'World Wide Work ',\n",
              "  'Digital Illustrations for children https://t.co/z5NPDU6ZLl #news #feedly'],\n",
              " ['AnneBlueBelle',\n",
              "  'Perak, Malaysia',\n",
              "  '21 Taras of Tara Walk\\n\\nhttps://t.co/1uz2rfgscq\\n\\n#TsemRinpoche #DorjeShugden #Kechara #Asia #China #Europe… https://t.co/TjHEcD1oMB'],\n",
              " ['ChronLaw',\n",
              "  'Houston, TX',\n",
              "  '‘Could be used to punish media professionals’: HRW condemns new Greek media law – Newslaundry\\n\\nChronLaw Media Law N… https://t.co/WEPLLqYbE4'],\n",
              " ['smorffer',\n",
              "  'World',\n",
              "  '‘My Name”s Han So-hee in talks to join K-drama starring ‘Squid Game”s Wi Ha-joon https://t.co/fbUKjsGTY3 (… https://t.co/K4YVWiJxs9'],\n",
              " ['ChronLaw',\n",
              "  'Houston, TX',\n",
              "  'Pakistan Parliament passes bill to grant Kulbhushan Jadhav right to appeal against conviction – Jagran Josh\\n\\nChronL… https://t.co/pgnG1IZ446'],\n",
              " ['FutureAmeencity',\n",
              "  'Ameenville',\n",
              "  'Instagram now requires video selfies for verification for new users #Technology #News https://t.co/uBBenTJkia'],\n",
              " ['THEFREEMEDIA2K',\n",
              "  'India',\n",
              "  \"Air pollution didn't drop in Covid lockdown, rather ozone levels rose\\n\\nhttps://t.co/Q7Pq9yod1Y\\n\\n#airpollution… https://t.co/VERx8CUH7v\"],\n",
              " ['FutureAmeencity',\n",
              "  'Ameenville',\n",
              "  'Android 12L will leave developers fewer excuses to snub tablets #Technology #News https://t.co/jyrAhlXGXT'],\n",
              " ['FutureAmeencity',\n",
              "  'Ameenville',\n",
              "  'Samsung Galaxy Tab S8 series may be delayed, here’s why #Technology #News https://t.co/PWG3aop7NP'],\n",
              " ['_WildTrails',\n",
              "  'India',\n",
              "  'Caught on cam: Leopard strays into Ghaziabad locality | Ghaziabad News -  (For global #wildlife #news, visit… https://t.co/DqmuE3bt6j'],\n",
              " ['FutureAmeencity',\n",
              "  'Ameenville',\n",
              "  'Galaxy Tab S8 could be delayed by new COVID-19 cases #Technology #News https://t.co/uXH2nNUVdB'],\n",
              " ['_WildTrails',\n",
              "  'India',\n",
              "  'Butterfly rearing centre developed at Bodh Gaya | Patna News -  (For global #wildlife #news, visit #wildtrails at… https://t.co/JluDTwDZTB'],\n",
              " ['ChronLaw',\n",
              "  'Houston, TX',\n",
              "  'Superior Man Now Federally Charged In Twin Ports Day-Long Crime Spree – FOX 21 Online\\n\\nChronLaw Criminal Law News\\na… https://t.co/CupjLvx3cv'],\n",
              " ['Corridor_Law',\n",
              "  'New Delhi, India',\n",
              "  '“Whoever controls the media, controls the mind.”\\n\\n#journalism #legaljournalism #law #journalist #legaljournalist… https://t.co/O8GwhpDrOy'],\n",
              " ['FutureAmeencity',\n",
              "  'Ameenville',\n",
              "  'OnePlus 10 Pro early launch won’t benefit most buyers #Technology #News https://t.co/dR2FVSxgoI'],\n",
              " ['supastardiva1',\n",
              "  'Stockton, CA',\n",
              "  'corruption are #corruption #covid #trump #truth #politics #bluewave #news #corruptgovernment #governmentcorruption… https://t.co/YtMfBMeb3x'],\n",
              " ['FutureAmeencity',\n",
              "  'Ameenville',\n",
              "  'Pixel 6 fingerprint reader issue receives a fix via a minor update #Technology #News https://t.co/3dDCCP8629'],\n",
              " ['FutureAmeencity',\n",
              "  'Ameenville',\n",
              "  'Fortnite’s dreaded BRUTE is back, but with a very important change #Technology #News https://t.co/fa6dMCtdJN'],\n",
              " ['BankersUg',\n",
              "  'Kampala, Uganda',\n",
              "  'Ugandan Motorists Rush To Kenya For Cheaper Fuel \\n\\n#BankersUpdates #Uganda #Kenya #FuelPrices #Africa #Gasolina… https://t.co/sZ1OaLdbs8'],\n",
              " ['FutureAmeencity',\n",
              "  'Ameenville',\n",
              "  'UPS taps Waymo Via Class 8 autonomous trucks to carry freight #Technology #News https://t.co/XdDS6JcDmb'],\n",
              " ['FutureAmeencity',\n",
              "  'Ameenville',\n",
              "  'The best Black Friday phone deals #Technology #News https://t.co/X91NFpIxoa'],\n",
              " ['FutureAmeencity',\n",
              "  'Ameenville',\n",
              "  'How Windows 11 May Soon Force You to Use Microsoft Edge #Technology #News https://t.co/6ZEQfdwEKw'],\n",
              " ['FutureAmeencity',\n",
              "  'Ameenville',\n",
              "  'Verizon rolls out Alexa hands-free calls with Number Share – Home #Technology #News https://t.co/xEBQEEjSiy'],\n",
              " ['FutureAmeencity',\n",
              "  'Ameenville',\n",
              "  'What Happens to My Crypto When I Die? #Technology #News https://t.co/YU9foz8Pca'],\n",
              " ['FutureAmeencity',\n",
              "  'Ameenville',\n",
              "  'Bill Gates’ nuclear power company selects a site for its first reactor #Technology #News https://t.co/dYHeADvubA'],\n",
              " ['LasVegasNews7',\n",
              "  'Las Vegas, NV',\n",
              "  'Solo travel to Las Vegas? Here are 10 fun things to do\\n👉 https://t.co/OaeFhHoygG\\n#Vacation #LasVegas #Vegas #News… https://t.co/rC28sE1B4H'],\n",
              " ['FutureAmeencity',\n",
              "  'Ameenville',\n",
              "  'Microsoft Upgrades Windows Media Player, but Will Anyone Actually Use It? #Technology #News https://t.co/n4Fy84FB2M'],\n",
              " ['patrickmast',\n",
              "  'Las Vegas, NV',\n",
              "  'From https://t.co/HPhjj3G220 :\\nSolo travel to Las Vegas? Here are 10 fun things to do\\n👉 https://t.co/TufiaGz9rU… https://t.co/V52zqIj3nY'],\n",
              " ['FutureAmeencity',\n",
              "  'Ameenville',\n",
              "  '4 Websites Kids Can Use to Write Books #Technology #News https://t.co/BJYDLk5Jpo'],\n",
              " ['FutureAmeencity',\n",
              "  'Ameenville',\n",
              "  'Early Access Samsung Galaxy Book Pro Deals for Black Friday 2021 #Technology #News https://t.co/xi7kjRJW8Y'],\n",
              " ['FutureAmeencity',\n",
              "  'Ameenville',\n",
              "  'The 2022 Porsche 718 Cayman GT4 RS is a serious glow-up #Technology #News https://t.co/cOQaiuj520'],\n",
              " ['thecryptobasic',\n",
              "  'Global',\n",
              "  'Binance CEO, Changpeng Zhao Only Holds Two Crypto And Plans To Donate 99% Of His Wealth.\\n\\nhttps://t.co/HtbptzZvgh… https://t.co/YdnrmnzGrW'],\n",
              " ['FutureAmeencity',\n",
              "  'Ameenville',\n",
              "  'Boosters for all is critical, not a luxury, Fauci says as FDA decision nears #Technology #News https://t.co/nFMCJ6mCkj'],\n",
              " ['FutureAmeencity',\n",
              "  'Ameenville',\n",
              "  'Listen Up: Samsung Has Early Access on Its Buds Black Friday Deals #Technology #News https://t.co/Z2n41tsWDF'],\n",
              " ['FutureAmeencity',\n",
              "  'Ameenville',\n",
              "  'Hackers backed by Iran are targeting US critical infrastructure, US warns #Technology #News https://t.co/uDbmp3yC5e'],\n",
              " ['FutureAmeencity',\n",
              "  'Ameenville',\n",
              "  \"1Password 8 Arrives on Windows: Here's What's New #Technology #News https://t.co/105TD5KehC\"],\n",
              " ['FutureAmeencity',\n",
              "  'Ameenville',\n",
              "  'Tweaked barley may keep beer flowing as climate change hits crops #Technology #News https://t.co/AnokxQxx6f'],\n",
              " ['TGoalpost',\n",
              "  'Malta',\n",
              "  'Vitaly Janelt: \"If I keep the level of play right now, for me I would play my whole career in the Premier League, i… https://t.co/kQGcnfJGpK'],\n",
              " ['threatshub',\n",
              "  'Global',\n",
              "  'ThreatsHub Cybersecurity News | Singaporean regulator punishes biggest-ever data breach: almost 5.9 million hotel c… https://t.co/pwqzft2DKW'],\n",
              " ['FutureAmeencity',\n",
              "  'Ameenville',\n",
              "  'Save on MacBooks, iPads, AirPods, and more with early Black Friday deals at B&amp; #Technology #News https://t.co/DE9FAaUyPn'],\n",
              " ['FutureAmeencity',\n",
              "  'Ameenville',\n",
              "  'Save on MacBooks, iPads, AirPods, and more with early Black Friday deals at B&amp;H #Technology #News https://t.co/EP1lPFkw7H'],\n",
              " ['FutureAmeencity',\n",
              "  'Ameenville',\n",
              "  'The best Black Friday tablet deals #Technology #News https://t.co/C7XsGcomVn'],\n",
              " ['AnneBlueBelle',\n",
              "  'Perak, Malaysia',\n",
              "  'The Meaning Behind the Fasting Buddha Statue\\n\\nhttps://t.co/BNLgMush1Y\\n\\n#TsemRinpoche #DorjeShugden #Kechara #Asia… https://t.co/NfQvCEfhYZ'],\n",
              " ['RachelF43911530',\n",
              "  '',\n",
              "  \"if you missed $shiib don't miss $DATX same chart with same profit targets\\n$ALGO $AXS $BNB $BTMX $UNI $ONE $COTI… https://t.co/xcZcBb0DNn\"]]"
            ]
          },
          "metadata": {},
          "execution_count": 16
        }
      ]
    },
    {
      "cell_type": "code",
      "metadata": {
        "colab": {
          "base_uri": "https://localhost:8080/",
          "height": 423
        },
        "id": "GrJdlyOGRGf4",
        "outputId": "6fd33ff7-939f-4133-b342-49d767e93e92"
      },
      "source": [
        "tweet_text = pd.DataFrame(data=users_locs, )\n",
        "tweet_text"
      ],
      "execution_count": null,
      "outputs": [
        {
          "output_type": "execute_result",
          "data": {
            "text/html": [
              "<div>\n",
              "<style scoped>\n",
              "    .dataframe tbody tr th:only-of-type {\n",
              "        vertical-align: middle;\n",
              "    }\n",
              "\n",
              "    .dataframe tbody tr th {\n",
              "        vertical-align: top;\n",
              "    }\n",
              "\n",
              "    .dataframe thead th {\n",
              "        text-align: right;\n",
              "    }\n",
              "</style>\n",
              "<table border=\"1\" class=\"dataframe\">\n",
              "  <thead>\n",
              "    <tr style=\"text-align: right;\">\n",
              "      <th></th>\n",
              "      <th>0</th>\n",
              "      <th>1</th>\n",
              "      <th>2</th>\n",
              "    </tr>\n",
              "  </thead>\n",
              "  <tbody>\n",
              "    <tr>\n",
              "      <th>0</th>\n",
              "      <td>AnneBlueBelle</td>\n",
              "      <td>Perak, Malaysia</td>\n",
              "      <td>The Vegan Prince &amp;amp; Clean Energy\\n\\nhttps:/...</td>\n",
              "    </tr>\n",
              "    <tr>\n",
              "      <th>1</th>\n",
              "      <td>tvcrunch2</td>\n",
              "      <td></td>\n",
              "      <td>Make Your Feet Happy With These Shoe Tips - ht...</td>\n",
              "    </tr>\n",
              "    <tr>\n",
              "      <th>2</th>\n",
              "      <td>supastardiva1</td>\n",
              "      <td>Stockton, CA</td>\n",
              "      <td>corruption are #corruption #covid #trump #trut...</td>\n",
              "    </tr>\n",
              "    <tr>\n",
              "      <th>3</th>\n",
              "      <td>meditaudios</td>\n",
              "      <td></td>\n",
              "      <td>☏ COVID?19 Pandemic?Related Stressors and Post...</td>\n",
              "    </tr>\n",
              "    <tr>\n",
              "      <th>4</th>\n",
              "      <td>Littlevnews</td>\n",
              "      <td></td>\n",
              "      <td>#tamilnews #news #tamilserials #TamilNadu #tam...</td>\n",
              "    </tr>\n",
              "    <tr>\n",
              "      <th>...</th>\n",
              "      <td>...</td>\n",
              "      <td>...</td>\n",
              "      <td>...</td>\n",
              "    </tr>\n",
              "    <tr>\n",
              "      <th>95</th>\n",
              "      <td>FutureAmeencity</td>\n",
              "      <td>Ameenville</td>\n",
              "      <td>Save on MacBooks, iPads, AirPods, and more wit...</td>\n",
              "    </tr>\n",
              "    <tr>\n",
              "      <th>96</th>\n",
              "      <td>FutureAmeencity</td>\n",
              "      <td>Ameenville</td>\n",
              "      <td>Save on MacBooks, iPads, AirPods, and more wit...</td>\n",
              "    </tr>\n",
              "    <tr>\n",
              "      <th>97</th>\n",
              "      <td>FutureAmeencity</td>\n",
              "      <td>Ameenville</td>\n",
              "      <td>The best Black Friday tablet deals #Technology...</td>\n",
              "    </tr>\n",
              "    <tr>\n",
              "      <th>98</th>\n",
              "      <td>AnneBlueBelle</td>\n",
              "      <td>Perak, Malaysia</td>\n",
              "      <td>The Meaning Behind the Fasting Buddha Statue\\n...</td>\n",
              "    </tr>\n",
              "    <tr>\n",
              "      <th>99</th>\n",
              "      <td>RachelF43911530</td>\n",
              "      <td></td>\n",
              "      <td>if you missed $shiib don't miss $DATX same cha...</td>\n",
              "    </tr>\n",
              "  </tbody>\n",
              "</table>\n",
              "<p>100 rows × 3 columns</p>\n",
              "</div>"
            ],
            "text/plain": [
              "                  0  ...                                                  2\n",
              "0     AnneBlueBelle  ...  The Vegan Prince &amp; Clean Energy\\n\\nhttps:/...\n",
              "1         tvcrunch2  ...  Make Your Feet Happy With These Shoe Tips - ht...\n",
              "2     supastardiva1  ...  corruption are #corruption #covid #trump #trut...\n",
              "3       meditaudios  ...  ☏ COVID?19 Pandemic?Related Stressors and Post...\n",
              "4       Littlevnews  ...  #tamilnews #news #tamilserials #TamilNadu #tam...\n",
              "..              ...  ...                                                ...\n",
              "95  FutureAmeencity  ...  Save on MacBooks, iPads, AirPods, and more wit...\n",
              "96  FutureAmeencity  ...  Save on MacBooks, iPads, AirPods, and more wit...\n",
              "97  FutureAmeencity  ...  The best Black Friday tablet deals #Technology...\n",
              "98    AnneBlueBelle  ...  The Meaning Behind the Fasting Buddha Statue\\n...\n",
              "99  RachelF43911530  ...  if you missed $shiib don't miss $DATX same cha...\n",
              "\n",
              "[100 rows x 3 columns]"
            ]
          },
          "metadata": {},
          "execution_count": 17
        }
      ]
    },
    {
      "cell_type": "code",
      "metadata": {
        "colab": {
          "base_uri": "https://localhost:8080/"
        },
        "id": "xMZBXhVKRNft",
        "outputId": "c5155005-dde3-4413-dc45-e121c578b49e"
      },
      "source": [
        "tweet_text.rename(columns={0:\"Username\",1:\"Location\", 2:\"text\"}, inplace=True)\n",
        "print(tweet_text)"
      ],
      "execution_count": null,
      "outputs": [
        {
          "output_type": "stream",
          "name": "stdout",
          "text": [
            "           Username  ...                                               text\n",
            "0     AnneBlueBelle  ...  The Vegan Prince &amp; Clean Energy\\n\\nhttps:/...\n",
            "1         tvcrunch2  ...  Make Your Feet Happy With These Shoe Tips - ht...\n",
            "2     supastardiva1  ...  corruption are #corruption #covid #trump #trut...\n",
            "3       meditaudios  ...  ☏ COVID?19 Pandemic?Related Stressors and Post...\n",
            "4       Littlevnews  ...  #tamilnews #news #tamilserials #TamilNadu #tam...\n",
            "..              ...  ...                                                ...\n",
            "95  FutureAmeencity  ...  Save on MacBooks, iPads, AirPods, and more wit...\n",
            "96  FutureAmeencity  ...  Save on MacBooks, iPads, AirPods, and more wit...\n",
            "97  FutureAmeencity  ...  The best Black Friday tablet deals #Technology...\n",
            "98    AnneBlueBelle  ...  The Meaning Behind the Fasting Buddha Statue\\n...\n",
            "99  RachelF43911530  ...  if you missed $shiib don't miss $DATX same cha...\n",
            "\n",
            "[100 rows x 3 columns]\n"
          ]
        }
      ]
    },
    {
      "cell_type": "code",
      "metadata": {
        "id": "EUQawq0lRSQN",
        "colab": {
          "base_uri": "https://localhost:8080/",
          "height": 423
        },
        "outputId": "9b88dbcf-88f3-42c7-e889-1d31ee533188"
      },
      "source": [
        "tweet_text.drop([\"Location\"],axis=1 , inplace=True)\n",
        "tweet_text.drop([\"Username\"],axis=1 , inplace=True)\n",
        "x_test=tweet_text\n",
        "x_test"
      ],
      "execution_count": null,
      "outputs": [
        {
          "output_type": "execute_result",
          "data": {
            "text/html": [
              "<div>\n",
              "<style scoped>\n",
              "    .dataframe tbody tr th:only-of-type {\n",
              "        vertical-align: middle;\n",
              "    }\n",
              "\n",
              "    .dataframe tbody tr th {\n",
              "        vertical-align: top;\n",
              "    }\n",
              "\n",
              "    .dataframe thead th {\n",
              "        text-align: right;\n",
              "    }\n",
              "</style>\n",
              "<table border=\"1\" class=\"dataframe\">\n",
              "  <thead>\n",
              "    <tr style=\"text-align: right;\">\n",
              "      <th></th>\n",
              "      <th>text</th>\n",
              "    </tr>\n",
              "  </thead>\n",
              "  <tbody>\n",
              "    <tr>\n",
              "      <th>0</th>\n",
              "      <td>The Vegan Prince &amp;amp; Clean Energy\\n\\nhttps:/...</td>\n",
              "    </tr>\n",
              "    <tr>\n",
              "      <th>1</th>\n",
              "      <td>Make Your Feet Happy With These Shoe Tips - ht...</td>\n",
              "    </tr>\n",
              "    <tr>\n",
              "      <th>2</th>\n",
              "      <td>corruption are #corruption #covid #trump #trut...</td>\n",
              "    </tr>\n",
              "    <tr>\n",
              "      <th>3</th>\n",
              "      <td>☏ COVID?19 Pandemic?Related Stressors and Post...</td>\n",
              "    </tr>\n",
              "    <tr>\n",
              "      <th>4</th>\n",
              "      <td>#tamilnews #news #tamilserials #TamilNadu #tam...</td>\n",
              "    </tr>\n",
              "    <tr>\n",
              "      <th>...</th>\n",
              "      <td>...</td>\n",
              "    </tr>\n",
              "    <tr>\n",
              "      <th>95</th>\n",
              "      <td>Save on MacBooks, iPads, AirPods, and more wit...</td>\n",
              "    </tr>\n",
              "    <tr>\n",
              "      <th>96</th>\n",
              "      <td>Save on MacBooks, iPads, AirPods, and more wit...</td>\n",
              "    </tr>\n",
              "    <tr>\n",
              "      <th>97</th>\n",
              "      <td>The best Black Friday tablet deals #Technology...</td>\n",
              "    </tr>\n",
              "    <tr>\n",
              "      <th>98</th>\n",
              "      <td>The Meaning Behind the Fasting Buddha Statue\\n...</td>\n",
              "    </tr>\n",
              "    <tr>\n",
              "      <th>99</th>\n",
              "      <td>if you missed $shiib don't miss $DATX same cha...</td>\n",
              "    </tr>\n",
              "  </tbody>\n",
              "</table>\n",
              "<p>100 rows × 1 columns</p>\n",
              "</div>"
            ],
            "text/plain": [
              "                                                 text\n",
              "0   The Vegan Prince &amp; Clean Energy\\n\\nhttps:/...\n",
              "1   Make Your Feet Happy With These Shoe Tips - ht...\n",
              "2   corruption are #corruption #covid #trump #trut...\n",
              "3   ☏ COVID?19 Pandemic?Related Stressors and Post...\n",
              "4   #tamilnews #news #tamilserials #TamilNadu #tam...\n",
              "..                                                ...\n",
              "95  Save on MacBooks, iPads, AirPods, and more wit...\n",
              "96  Save on MacBooks, iPads, AirPods, and more wit...\n",
              "97  The best Black Friday tablet deals #Technology...\n",
              "98  The Meaning Behind the Fasting Buddha Statue\\n...\n",
              "99  if you missed $shiib don't miss $DATX same cha...\n",
              "\n",
              "[100 rows x 1 columns]"
            ]
          },
          "metadata": {},
          "execution_count": 19
        }
      ]
    },
    {
      "cell_type": "markdown",
      "metadata": {
        "id": "_ZB1dZ_ETV_P"
      },
      "source": [
        "# spliiting the dataset"
      ]
    },
    {
      "cell_type": "code",
      "metadata": {
        "id": "sN_VVPE3TOYK"
      },
      "source": [
        "x=news.iloc[:,0].values\n",
        "y=news.iloc[:,-1].values"
      ],
      "execution_count": null,
      "outputs": []
    },
    {
      "cell_type": "code",
      "metadata": {
        "id": "1trwB0E2Tsrn",
        "colab": {
          "base_uri": "https://localhost:8080/"
        },
        "outputId": "216be843-bce3-4a44-b7a4-d074d3c7d5af"
      },
      "source": [
        "x"
      ],
      "execution_count": null,
      "outputs": [
        {
          "output_type": "execute_result",
          "data": {
            "text/plain": [
              "array(['WASHINGTON (Reuters) - The head of a conservative Republican faction in the U.S. Congress, who voted this month for a huge expansion of the national debt to pay for tax cuts, called himself a “fiscal conservative” on Sunday and urged budget restraint in 2018. In keeping with a sharp pivot under way among Republicans, U.S. Representative Mark Meadows, speaking on CBS’ “Face the Nation,” drew a hard line on federal spending, which lawmakers are bracing to do battle over in January. When they return from the holidays on Wednesday, lawmakers will begin trying to pass a federal budget in a fight likely to be linked to other issues, such as immigration policy, even as the November congressional election campaigns approach in which Republicans will seek to keep control of Congress. President Donald Trump and his Republicans want a big budget increase in military spending, while Democrats also want proportional increases for non-defense “discretionary” spending on programs that support education, scientific research, infrastructure, public health and environmental protection. “The (Trump) administration has already been willing to say: ‘We’re going to increase non-defense discretionary spending ... by about 7 percent,’” Meadows, chairman of the small but influential House Freedom Caucus, said on the program. “Now, Democrats are saying that’s not enough, we need to give the government a pay raise of 10 to 11 percent. For a fiscal conservative, I don’t see where the rationale is. ... Eventually you run out of other people’s money,” he said. Meadows was among Republicans who voted in late December for their party’s debt-financed tax overhaul, which is expected to balloon the federal budget deficit and add about $1.5 trillion over 10 years to the $20 trillion national debt. “It’s interesting to hear Mark talk about fiscal responsibility,” Democratic U.S. Representative Joseph Crowley said on CBS. Crowley said the Republican tax bill would require the  United States to borrow $1.5 trillion, to be paid off by future generations, to finance tax cuts for corporations and the rich. “This is one of the least ... fiscally responsible bills we’ve ever seen passed in the history of the House of Representatives. I think we’re going to be paying for this for many, many years to come,” Crowley said. Republicans insist the tax package, the biggest U.S. tax overhaul in more than 30 years,  will boost the economy and job growth. House Speaker Paul Ryan, who also supported the tax bill, recently went further than Meadows, making clear in a radio interview that welfare or “entitlement reform,” as the party often calls it, would be a top Republican priority in 2018. In Republican parlance, “entitlement” programs mean food stamps, housing assistance, Medicare and Medicaid health insurance for the elderly, poor and disabled, as well as other programs created by Washington to assist the needy. Democrats seized on Ryan’s early December remarks, saying they showed Republicans would try to pay for their tax overhaul by seeking spending cuts for social programs. But the goals of House Republicans may have to take a back seat to the Senate, where the votes of some Democrats will be needed to approve a budget and prevent a government shutdown. Democrats will use their leverage in the Senate, which Republicans narrowly control, to defend both discretionary non-defense programs and social spending, while tackling the issue of the “Dreamers,” people brought illegally to the country as children. Trump in September put a March 2018 expiration date on the Deferred Action for Childhood Arrivals, or DACA, program, which protects the young immigrants from deportation and provides them with work permits. The president has said in recent Twitter messages he wants funding for his proposed Mexican border wall and other immigration law changes in exchange for agreeing to help the Dreamers. Representative Debbie Dingell told CBS she did not favor linking that issue to other policy objectives, such as wall funding. “We need to do DACA clean,” she said.  On Wednesday, Trump aides will meet with congressional leaders to discuss those issues. That will be followed by a weekend of strategy sessions for Trump and Republican leaders on Jan. 6 and 7, the White House said. Trump was also scheduled to meet on Sunday with Florida Republican Governor Rick Scott, who wants more emergency aid. The House has passed an $81 billion aid package after hurricanes in Florida, Texas and Puerto Rico, and wildfires in California. The package far exceeded the $44 billion requested by the Trump administration. The Senate has not yet voted on the aid. ',\n",
              "       'WASHINGTON (Reuters) - Transgender people will be allowed for the first time to enlist in the U.S. military starting on Monday as ordered by federal courts, the Pentagon said on Friday, after President Donald Trump’s administration decided not to appeal rulings that blocked his transgender ban. Two federal appeals courts, one in Washington and one in Virginia, last week rejected the administration’s request to put on hold orders by lower court judges requiring the military to begin accepting transgender recruits on Jan. 1. A Justice Department official said the administration will not challenge those rulings. “The Department of Defense has announced that it will be releasing an independent study of these issues in the coming weeks. So rather than litigate this interim appeal before that occurs, the administration has decided to wait for DOD’s study and will continue to defend the president’s lawful authority in District Court in the meantime,” the official said, speaking on condition of anonymity. In September, the Pentagon said it had created a panel of senior officials to study how to implement a directive by Trump to prohibit transgender individuals from serving. The Defense Department has until Feb. 21 to submit a plan to Trump. Lawyers representing currently-serving transgender service members and aspiring recruits said they had expected the administration to appeal the rulings to the conservative-majority Supreme Court, but were hoping that would not happen. Pentagon spokeswoman Heather Babb said in a statement: “As mandated by court order, the Department of Defense is prepared to begin accessing transgender applicants for military service Jan. 1. All applicants must meet all accession standards.” Jennifer Levi, a lawyer with gay, lesbian and transgender advocacy group GLAD, called the decision not to appeal “great news.” “I’m hoping it means the government has come to see that there is no way to justify a ban and that it’s not good for the military or our country,” Levi said. Both GLAD and the American Civil Liberties Union represent plaintiffs in the lawsuits filed against the administration. In a move that appealed to his hard-line conservative supporters, Trump announced in July that he would prohibit transgender people from serving in the military, reversing Democratic President Barack Obama’s policy of accepting them. Trump said on Twitter at the time that the military “cannot be burdened with the tremendous medical costs and disruption that transgender in the military would entail.” Four federal judges - in Baltimore, Washington, D.C., Seattle and Riverside, California - have issued rulings blocking Trump’s ban while legal challenges to the Republican president’s policy proceed. The judges said the ban would likely violate the right under the U.S. Constitution to equal protection under the law. The Pentagon on Dec. 8 issued guidelines to recruitment personnel in order to enlist transgender applicants by Jan. 1. The memo outlined medical requirements and specified how the applicants’ sex would be identified and even which undergarments they would wear. The Trump administration previously said in legal papers that the armed forces were not prepared to train thousands of personnel on the medical standards needed to process transgender applicants and might have to accept “some individuals who are not medically fit for service.” The Obama administration had set a deadline of July 1, 2017, to begin accepting transgender recruits. But Trump’s defense secretary, James Mattis, postponed that date to Jan. 1, 2018, which the president’s ban then put off indefinitely. Trump has taken other steps aimed at rolling back transgender rights. In October, his administration said a federal law banning gender-based workplace discrimination does not protect transgender employees, reversing another Obama-era position. In February, Trump rescinded guidance issued by the Obama administration saying that public schools should allow transgender students to use the restroom that corresponds to their gender identity. ',\n",
              "       'WASHINGTON (Reuters) - The special counsel investigation of links between Russia and President Trump’s 2016 election campaign should continue without interference in 2018, despite calls from some Trump administration allies and Republican lawmakers to shut it down, a prominent Republican senator said on Sunday. Lindsey Graham, who serves on the Senate armed forces and judiciary committees, said Department of Justice Special Counsel Robert Mueller needs to carry on with his Russia investigation without political interference. “This investigation will go forward. It will be an investigation conducted without political influence,” Graham said on CBS’s Face the Nation news program. “And we all need to let Mr. Mueller do his job. I think he’s the right guy at the right time.”  The question of how Russia may have interfered in the election, and how Trump’s campaign may have had links with or co-ordinated any such effort, has loomed over the White House since Trump took office in January. It shows no sign of receding as Trump prepares for his second year in power, despite intensified rhetoric from some Trump allies in recent weeks accusing Mueller’s team of bias against the Republican president. Trump himself seemed to undercut his supporters in an interview last week with the New York Times in which he said he expected Mueller was “going to be fair.”    Russia’s role in the election and the question of possible links to the Trump campaign are the focus of multiple inquiries in Washington. Three committees of the Senate and the House of Representatives are investigating, as well as Mueller, whose team in May took over an earlier probe launched by the U.S. Federal Bureau of Investigation (FBI). Several members of the Trump campaign and administration have been convicted or indicted in the investigation.  Trump and his allies deny any collusion with Russia during the campaign, and the Kremlin has denied meddling in the election. Graham said he still wants an examination of the FBI’s use of a dossier on links between Trump and Russia that was compiled by a former British spy, Christopher Steele, which prompted Trump allies and some Republicans to question Mueller’s inquiry.   On Saturday, the New York Times reported that it was not that dossier that triggered an early FBI probe, but a tip from former Trump campaign foreign policy adviser George Papadopoulos to an Australian diplomat that Russia had damaging information about former Trump rival Hillary Clinton.  “I want somebody to look at the way the Department of Justice used this dossier. It bothers me greatly the way they used it, and I want somebody to look at it,” Graham said. But he said the Russia investigation must continue. “As a matter of fact, it would hurt us if we ignored it,” he said. ',\n",
              "       ...,\n",
              "       'Patrick Henningsen  21st Century WireRemember when the Obama Administration told the world how it hoped to identify 5,000 reliable non-jihadist  moderate  rebels hanging out in Turkey and Jordan, who might want to fight for Washington in Syria? After all the drama over its infamous  train and equip  program to create their own Arab army in Syria, they want to give it another try.This week, Pentagon officials announced their new plan to train up to 7,000 more  moderate  fighters, but this time the project would take place inside Syria (and to hell with international law).We re told that this was requested by Ankara, and with all NATO allies singing the same hymn   claiming that this new effort will help in securing Turkey s porous border with Syria, or so the story goes. Washington s political cover for this is fashioned from the popular post-Paris theme: to protect civilized Europe from invading hordes and the terrorists who hide among them, as stated in the Wall Street Journal: The program would address part of the tense and long-running dialogue between Washington and Ankara over sealing the border, which Western governments have long complained is an avenue for extremists to leave Syria and travel internationally, The timing of this announcement seemed uncanny against the backdrop of an unlikely ISIS  suicide bomb  terrorist attack, in Turkey, of all places, where the victims just happened to be 14 German tourists, feeding perfectly into Europe s new binary fear set of terrorism and immigration. Shades of GLADIO, undoubtedly (but you won t see western journalists entertaining such conspiracy theories).Our friends at Nation Builders Inc are banking on the global public suffering from Syria fatigue, but now is the time to really pay attention. The west s real agenda for the region is starting to unfold Despite all of US-led Coalition s scandals, lies, epic failures, false flags and official conspiracy theories, the mainstream narrative on Syria persists. It s on our TV screens and in our newspapers constantly   from Los Angeles to London, from Paris to Riyadh, every politician and pundit seems to have an opinion about,  what to do with Syria?  Everyone, except the Syria people  themselves, who like the people of Iraq, Libya, Afghanistan, Yemen and ever other country that s found itself under the cleaver of western interests   are never afforded any say in their own destiny. As is tradition in Washington, London and Paris, the only Syrian voices which count are the ones who have been hand-picked by western technocrats and approved by the Saudi royal family to form their ever-changing  recognized  government-in-exile, the Syrian National Council. Currently, that could be Riad Hijab,  George Sabra or Khaled Khoja. Next week, it could be three others, depending on who has fallen in, or out of favor with Washington or Riyadh.To anyone who was listening close enough early on in the conflict, you would have heard determined members of the western-backed  Syrian Opposition  admitting how they would,  make a deal with the devil if that s what it takes to win power.  Four years later, we now see that is exactly what happened, but whether you believe that this  devil is US-led Coalition, or terrorist armies fighting groups (or both) might be cause for debate. Others will argue over which is the bigger devil   is it the Wahabist-Salafist terrorist brigades like al Nusra Front and Islamic State, or is it the West and its GCC partners?The unfortunate reality is that these two devils are not mutually exclusive. The West and its partners not only created this  terror  crisis, but did so with the intent of unveiling a grand  solution  to the problem.Plans A-ZThe terrorist enclave in Syria is designed for purpose   to implant a hostile metastasis right in the middle of the very territory which neocolonial powers plan to tear away from the barely sovereign nations of Iraq and Syria.Since 2011, the western-led cartel has deployed various levels of international subterfuge in Syria, starting with Plan A: the Arab Spring method   igniting a popular street uprising that might capture the world s attention for 15 minutes   enough to generate some high-quality evocative imagery and a social media storm to carry memes of liberty around the globe, inspiring the people on the streets (and on Twitter) to demand  change . Their cries for freedom would then be backed up by the US State Department, along with its functionaries at Human Rights Watch and Amnesty International America, and other Open Society Institute-funded NGOs and  human rights  organizations. Obviously, this did not work. Next, Plan B: the political opposition suddenly transcended into an armed, paramilitary opposition, followed by brutal violence and killing on both sides. The US and its allies wasted no time, pledging weapons, training, cash and logistical support to the armed opposition. The west set up its own parallel government for Syria abroad, but it failed to gain any traction with the Syria people. Then came Plan C: this  opposition  would be quickly overrun and absorbed into a massive array of mostly foreign jihadi and mercenary soldiers of misfortune and other assorted terrorists. This fed into an already established  War on Terror  western narrative. Now the west had a familiar entry point into the fight. The Washington-London-Paris-Tel-Aviv-Riyadh-Doha-Ankara Axis hoped that these terrorists would do the job of overthrowing the government of Bashar al Assad in Damascus, and collapse the country into a spirally pit of sectarian and tribal chaos. Who could blame them? After all, it worked in Libya in late 2011.Fast forward to 2016, having failed to overthrow Assad and implode the nation-state of Syria, the men and women of Nation Builders Inc and their muscles in Brussels (NATO), are quickly moving to Plan D: take territory. That s not to say plans A through D weren t always in the schematics   they certainly were, and further back than many people would dare to speculate.We now know from Wikileaks cables that this operation goes back to at least 2006, but in reality, it s probably much earlier than that. Taking the long view of history and the audacious building, and rebuilding, of a Euro-centric empire in the Middle East, one could say the process began the day the Sykes-Picot Agreement was signed in 1916. Concealed between those post-colonial lines drawn exactly 100 years ago, was the latent potential for the very conflicts and uncivil wars we are seeing today. If those borders are redrawn once again, you can be certain that they will be drawn by the very same powers involved a century ago. Whatever the arrangement, it will be to weaken, not strengthen the region, and certainly not strengthen any of the present nation states in the region, especially Syria. Proprietary powers will want any new states to be stuck in a perpetual state of neocolonial dependency, with an emphasis on financial and security dependency.Mice and Men21WIRE was one of the first news sources to warn about Washington s initial impulse back in 2014 when it began calling for a  No Fly Zone  in Northern Syria. It was clear that a problem, reaction, solution dialectic was in play, with ISIS being the object of the public s reaction. That plan might have come to fruition in the fall of 2015, but a funny thing happened on the way to the UN General Assembly in New York City. Later that week, Russia announced that it would be inserting itself, and its Air Force, into the Syrian quagmire, and with that, thwarted any master plan for a US-Turkey (NATO) controlled No Fly Zone along the Turkish-Syrian border. Suffice to say, that Russia already knew NATO s next move and acted accordingly, and with purpose.When asked two days ago about the prospect of the Washington DC latest brainchild, Train and Equip 2.0, this time inside Syria, here were my initial thoughts: We now know why, and it has more to do with what s beneath the sand than what s on top.As any good pirate will tell you   if you want to claim your share of the booty, you have to do your share of the killing. The Truth About  Train and Equip The previous  train and equip  program ended with Washington s military brass paraded in front of the Senate Armed Services Committee, before being roundly lambasted for failing to train even a handful of  moderate rebels , this after being awarded $500 million by the US taxpayer to get er done. When originally announced amid much fanfare, the public were told that the US government, in conjunction with the CIA, would be arming and training  moderate  militants in Turkey, Jordan or at a base in Saudi Arabia   before sending them to fight inside Syria. Washington claims that these new trainees were meant to fight ISIS, and not the Syrian government forces, but judging by the unwavering  regime change  rhetoric from the west, it would be highly naive to think that all this was strictly for ISIS.Nine months into the train and equip project, US Army Gen. Lloyd Austin III, acknowledged in Sept. 2015 that they had only managed to get  four or five  on the battlefield by then. Not one member of the media challenged this statement, probably because most were happy with the answer given   one which gave any hawkish critics of the Obama administration the pound of flesh they wanted and served to only intensify more calls before the new year for US  boots on the ground  in Syria. Doves loved it because it seemed to prove that backing proxies doesn t work, and that the best solution was to call it quits. For the sanguine mainstream media, it served-up that all-too familiar government narrative, of a  cock-up, not a cover-up.  This is the media s natural default position. In other words,  Well, it didn t work out, but that s nothing new with our incompetent government. Nothing to see here, move along.  To ask how the money disappeared, or really inquire into how it costs $500 million to train only five men   apparently was way too much work for the media. Not one  journalist  stopped to ask, if only 5 fighters were trained and dispatched, then what happened to the half a billion dollars?The real answer to that question should be self-evident to anyone studying reports on the ground in Syria, and is way too uncomfortable for the US media to stomach   that the US  train and equip  program provided the necessary official cover to allow the prosecution of a dirty war under the table. It wasn t a failure like fall guy Gen. Lloyd Austin will have you believe, it was a success.Judging by the proliferation of heavy weaponry and other lethal arms that have made it into the hands of al Qaeda in Syria (al Nusra Front), ISIS, Jaysh al Islam and others   it s clear that Uncle Sam s generous donation of $500 million has definitely been used to equip, if not train, those  rebels  in Syria.Middle East commentator and analyst Sharmine Narwani explains the West s perennial dilemma when trying to identify who their  moderates  are in Syria: For years, Washington has insisted there are armed  moderate  groups in Syria, but have gone to great lengths to avoid naming these  moderates.  Why? Because if moderates were named and identified, the US would have to be very, very certain that no past, present or future  atrocity video  would surface to prove otherwise. And the US could not guarantee this with any of the groups they have armed, trained or financed in Syria over the past five years. The next  train and equip  round will be more focused, and will be used to secure the following  The map above is from July 2015, but still represents the current military chessboard in Syria.Safe Zone =  Sunnistan Somehow it feels like 1998 all over again, with bad memories of the KLA in Kosovo, imported jihadist fighters in Bosnia, and NATO lording over a newly balkanized region.When you hear US officials like John McCain or clueless Republican presidential candidates like Marco Rubio or Carly Fiorina, all crowing for a  Safe Zone  in northern Syria, this is what they are referring to (see map above). Their  safe zone  just so happens to be in the exact same area where ISIS is currently holding court. It s a  safe zone  alright, but not for refugees and  Syrians fleeing the evil Bashar al Assad    rather, the  safe zone  will be for an array of  rebel  and terrorist fighters, part of a defacto Sunni state-lette in waiting.So the US-led Coalition s  safe zone  is the very Caliphate that Americans are decrying.For anyone requiring proof that such a grand chessboard is in play in Syria, they need look no further than a set of US airstrikes that took place before Christmas. On December 6, 2015,  US fighter bombers struck a Syrian military base located in the village of Ayyash in Deir Ezzor Province, east of Raqqa, which killed 3 Syrian Arab Army (SAA) soldiers and wounded additional others. Naturally, the Pentagon swiftly denied that any such attack took place. What happened after this incident was extremely telling, as explained by global affairs analyst Mike Whitney from Counterpunch Magazine: It s also worth noting, that according to South Front military analysis, the US bombing raid coincided with a  a full-scale ISIS offensive on the villages of Ayyash and Bgelia.  In other words, the US attack provided sufficient air-cover for ISIS terrorists to carry out their ground operations. Was that part of the plan or was it merely a coincidence? So the US air force was coordinating with ISIS boots on the ground, to achieve a common military objective. But it didn t end there. Less than 24 hours after the attack, US warplanes bombed the village of Al-Khan in north-eastern Syria killing 26 Syrian civilians including at least four women and seven children and four women. The message the US military is sending with these lethal attacks is that it wants to control the air-space over east Syria where it plans to remove ISIS and establish a de facto Sunni state consistent with its scheme to break Syria and Iraq into smaller cantons governed by local warlords, Islamic fanatics, and US puppets. Also taking place at the same moment on Dec 6th, was Turkey s quiet little invasion into northern Iraq, sending hundreds of troops and at least 20 tanks into territory north of Mosul, right between the Kurds and ISIS. It should be noted that this illegal incursion by NATO member Turkey was not approved by the Iraqi government in Baghdad, and Iraqi PM Haider al-Abadi called for Turkey to  immediately withdraw its troops.  Judging by Washington s silence on the matter, it s obvious that the US gave Turkey its full blessing. Here, Zero Hedge astutely points out the obvious: Most importantly of all, right on what Al-Araby al-Jadeed claims is the smuggling route for illegal ISIS crude into Turkey from Iraq.  Not surprisingly, Turkey s sudden move also came at the same time that Russia began to publicly expose Turkey s clandestine role in facilitating the ISIS oil trade, as well as launching airstrikes to destroy ISIS oil convoys moving from Syria into Turkey. And then Turkish leader Recep Tayyip Erdo an (photo, left) places his military assets at the very location where stolen ISIS oil makes its way from Iraq into Turkey? Hardly a coincidence.Make no mistake, both ends of NATO s military axle, the United States and Turkey, along with their Saudi-backed boots on the ground in ISIS and al Nusra   have each made critical strategic moves in unison, and with a specific military purpose each time, nudging towards securing territory. Once each key piece is finally in position, all that is required is a new  crisis , either in the region, or in Europe, or in America   to allow the Axis powers to move in quickly and take what is needed to implement the next phase of the game, whether that s creating a Kurdish canton, or a Sunni state-lette. Such moves will rarely be covered by the western international media.To be perfectly clear, the terms  Sunni  and  Shia  are the favored sectarian lexicon used by Nation Builders Inc and its international partners in Riyadh and Tel Aviv. My intention here is not to reduce the Muslim world down to this paradigm, but the architects of instability will use these terms, over and over   in their attempt to both marginalize and dehumanized Muslims for their own selfish ends.What s the  safe zone  for? As the US-led Coalition steps up its 18 month-long Punch  n Judy air operation to supplant ISIS from Raqqa, those western-backed jihadis will later require a safe corridor to flee but still remain connected to their Turkish supply lines. Washington s  safe zone  would also provide a much-needed safe haven for  rebels  who have been sent packing by the Syrian government from towns like Homs and others, as part of a painstaking disarming and reconciliation process between the Assad government and  opposition  rebels who are willing to participate in the program. Once the NATO-GCC Axis has established a mini protectorate inside of Syria, this will provide everything ISIS, al Nusra, Ahrar al-Sham, Turkmens et all will need; a secure launching pad for incursions further inside Syria   which will certainly guarantee a longer, protracted conflict in Syria   and beyond.This little Sunni wedge is also conveniently located next to a large rebel-terrorist contingent in Syria s northwestern Idlib governorate (province). Syria s border with Turkey has been porous from the beginning of the conflict, so the proposed  safe zone  will allow Turkey to maintain this status quo   where it has been continuously allowing the free-flow of weapons, rebels and terrorist fighters alike, along with oil, narcotics and human trafficking   to move freely through its southern border with Syria.If  regime  change  rhetoric is anything to go by, along with turning a blind eye to NATO member Turkey s role in facilitating supply lines and safe passage for al Qaeda and ISIS, then Washington s agenda is fairly transparent here. If they can establish a  internationally recognized  safe zone and a No-Fly Zone on top of it, central planners believe they will have the platform they need to eventually destroy Damascus, install their own western puppet, and then carve up Syria and northern Iraq accordingly. ISIS RAT-LINES: Black market oil has been a key component to carrying on both conflicts in Syria, and Iraq.For the architects of instability in Washington, one crucial benefit of carving out Sunni territory in both northern and eastern Syria is that available oil will help fund all of their paramilitary and terrorist needs   making it sustainable. To guarantee this uninterrupted income stream from black market oil which is presently making its way out of Syria and into Turkey and via Kurdistan, help is required from the Kurdish Regional Government (KRG) and other stakeholders, including the British-Turkish firm Genel Energy, just one firm who is providing the end-run to market for illicit ISIS oil. Ditto for a key mover and shaker in Raqqa s new Rockefeller class, Bilal Erdogan, the son of Turkish president, who according to numerous recent reports has already amassed a small fortune from the lucrative oil-for-terror trade.This is a problem, but one which Washington, London and Paris are not overly concerned with, much less upset about. Iraqi, Kurdish and Turkish opposition officials have accused Turkish governments and the KRG of deliberately allowing some of these smuggling operations to take place.Even as provisional state-lettes and cantons are conjured around it, there is no guarantee that Greater Kurdistan will ever see the light of day if Nation Builders Inc having anything to say bout it. The promise of Greater Kurdistan is as important to neocolonialists, than the reality of a Greater Kurdistan. Turkey also has its own interests and ambitions, and a Greater Kurdistan is not compatible with them. Iraq is not crazy about the idea either, because of obvious financial and energy resource reasons. So they remain in limb indefinitely, even as smaller quasi-Kurdish entities sprout up around the KRG. Turkey has its own ongoing  Kurdish problem  within Turkish borders, so Ankara will naturally view any expressions of Kurdish autonomy around it as a threat and potential inspiration for international Kurdish solidarity. Ruling over the Kurds means keeping them divided, and playing them off against their neighbors.There are those within the Turkish establishment who believe there are old scores still unsettled   in reclaiming Turk territory in both Syria and Iraq.SEE ALSO: SPECIAL REPORT: ISIS Oil? Follow the Money (Back to Europe)Here is where Sunnistan proper can emerge, coming into its own once set pieces are in place in Iraq and across Kurdistan, as Mike Whitney explained: So it looks like an agreement has been struck between Turkey, the KRG and the United States to seize parts of northern Iraq and eastern Syria to create a de facto Sunni state that will be jointly-controlled by Ankara and Washington.  It also looks like Obama has agreed to use dodgy jihadi-proxies (aka Terrorists) to work alongside US Special Forces to carry out future military operations.  So while the effort to remove Assad has been temporarily put on the backburner, the determination to destroy Syria is as strong as ever.  Another dismembered part of old Syria and Iraq which central planners are hoping to hack-off is an area called Rojava (see map above), or  Western Kurdistan . This region in northern Syria, formerly known as Syrian Kurdistan, gained its autonomy in November 2013 as part of the ongoing Rojava Revolution. The Kurdish defense forces here are known as the YPG (People s Defense Units) and are not on friendly footing with neighboring Turkey, for a number of reasons, not least of all because YPG defense forces present resistance to both al Nusra and ISIS encroachments into all three Rojava cantons. For Turkey, this is bad for business. How Rojava will factor into Washington s plans is not clear yet, but it occupies the most strategic squares on the chessboard.Make no mistake, the history s actors are all in for this plan. Do not be fooled by talk of  peace and stability  or humanitarian platitudes from western leaders, the UN, or the fair weather international community.Another indication that these plans have the full backing of the neoconservative illiterati, and Israel too, was PNAC walrus and former US Ambassador to the UN John Bolton s recent article in the establishment s daily journal of political posterity, the New York Times, where he states: Today s reality is that Iraq and Syria as we have known them are gone. The Islamic State has carved out a new entity from the post-Ottoman Empire settlement, mobilizing Sunni opposition to the regime of President Bashar al-Assad and the Iran-dominated government of Iraq. Also emerging, after years of effort, is a de facto independent Kurdistan. Central planners will happily frame this geopolitical scenario within the preferred theme of Sunni vs Shia  sectarian strife  in the region, which just happens to suit the interests and desires of both Saudi Arabia and Israel. Bolton confirms this: If, in this context, defeating the Islamic State means restoring to power Mr. Assad in Syria and Iran s puppets in Iraq, that outcome is neither feasible nor desirable. Rather than striving to recreate the post-World War I map, Washington should recognize the new geopolitics. The best alternative to the Islamic State in northeastern Syria and western Iraq is a new, independent Sunni state. Not so fast Mr. Ambassador. The Islamic State is the Sunni State.So for all intents and purposes, he s calling for the establishment of the Caliphate (funny how this goes right over the heads of  conservatives ). This is just one of many geostrategic moves which will guarantee instability and military conflict in the region for another 100 years, as well as provide a timely entr e through to Azerbaijan and into Iran, and later towards the Eurasian heartland of Dagestan (Russia s emerging energy center and geographic underbelly).In the meantime, expect to be pelted with endless propaganda about starving children in one town or another, changing week to week   with the usual slogans like,  we must act now! , and blaming Bashar al Assad for the suffering of his people. It s already wearing thin.Until the US and its NATO-GCC Axis stops flooding Syria and the region with weapons and terrorist fighters, and continues its policy of toppling secular nation-states   then any attempt at holding peace talks will end up back at square one, and stand as another exercise in futility.If the Syrian conflict has been good for one thing (and that s not to say it has), it s that the scripted western narrative, in all of its variations, has finally hit the wall of truth.***Author Patrick Henningsen is a writer, lecturer and global affairs analyst for international TV and radio. He is also the founder and co-editor of 21stCenturyWire.com.READ MORE SYRIA NEWS AT: 21st Century Wire Syria Files',\n",
              "       '21st Century Wire says Al Jazeera America will go down in history as one of the biggest failures in broadcast media history.Ever since the US and its allies began plotting to overthrow Libya and Syria, Al Jazeera has deteriorated from a promising international news network in 2003   into what it has become in 2016   a full-blown agit prop media shop for the US State Department and the Pentagon. In fact, US Military Central Command (CENTCOM) for the Middle East region is located in Qatar s capital of Doha, conveniently located just down the road from Al Jazeera s headquarters. Nice and cozy.Al Jazeera s role in promoting  regime change  and the destablization of Syria is now recorded history, as are its many shameful exhibitions of media fakery.The Qatari royals tried to expand propaganda operations into North America, but no matter how much money they threw at it (and those royals just love throwing money at things to try and get them to work), no one cared about it, much less watched it. I know this will be a massive disappointment for everyone here who has worked tirelessly for our long-term future. The decision that has been made is in no way because AJAM has done anything but a great job,  reads a company email from CEO Al Anstey, obtained by Politico.Indeed, they tried everything it seems, just short of paying Americans to watch their programs Al Jazeera America to close down https://t.co/EmFjBw9uC1 pic.twitter.com/HDea8ujTPt  Al Jazeera America (@ajam) January 13, 2016In 2012, the Qatari-owned Al Jazeera purchased Current TV from Al Gore for an inflated $500 million. Wait, it gets worse MONEY FOR NOTHING: Gore got fat off the AJAM deal.In addition to the $500 million which Doha blew on buying Gore s lemon, Current TV, the Qataris have spent at least $50 million per year between 2012   2015, along with many millions spent on advertising AJAM on other network slots, online ads, along with billboards and print media promotions. This was the Qataris   easy  ticket on to US cable and satellite networks. Boy, did Gore pull a fast one there.  In total, you would be looking at $700 million for the whole party. At its apex, AJAM would be lucky to pull in 30,000 viewers during prime time   which really amounts to a  nothing  market share.With all that money, and considering the hundreds of staff and  media executives  and producers they employed, it s safe to say that someone(s) did not have a clue what they were doing.What a colossal joke.On the bright side, the Qataris can always blame the collapse in oil prices for their lack of spare cash to fund their propaganda mills.READ MORE MAINSTREAM MEDIA EPIC FAILS AT: 21st Century Wire MSM Watch',\n",
              "       '21st Century Wire says As 21WIRE predicted in its new year s look ahead, we have a new  hostage  crisis underway.Today, Iranian military forces report that two small riverine U.S. Navy boats were seized in Iranian waters, and are currently being held on Iran s Farsi Island in the Persian Gulf. A total of 10 U.S. Navy personnel, nine men and one woman, have been detained by Iranian authorities. NAVY STRAYED: U.S. Navy patrol boat in the Persian Gulf (Image Source: USNI)According to the Pentagon, the initial narrative is as follows: The sailors were on a training mission around noon ET when their boat experienced mechanical difficulty and drifted into Iranian-claimed waters and were detained by the Iranian Coast Guard, officials added. The story has since been slightly revised by White House spokesman Josh Earnest to follow this narrative:The 2 boats were traveling en route from Kuwait to Bahrain, when they were stopped and detained by the Iranians.According to USNI, search and rescue teams from the Harry S. Truman Strike group were scrambled to aid the crew but stopped short after the crew was taken by the Iranians. We have been in contact with Iran and have received assurances that the crew and the vessels will be returned promptly,  Pentagon spokesman Peter Cook told AP. According to Persian Gulf TV: Farsi Island is one of the Iranian islands in the Persian Gulf, Bushehr province of Iran. There is an IRGC Navy base on this Island. The island has an area of about 0.25 km  and is completely restricted to public, due to top secret governmental activities. According to NBC News, U.S. State Department is in touch with Tehran officials and the Iranians recognize that the U.S. Navy straying off course was a mistake, and that the sailors will be released  within hours.  WAR INC: CNN s Wolf Blitzer wasted no time in ramping-up talk of military tension with Israeli-financed neocon Senator Tom Cotton.Neocon StuntAlready, the U.S. media, including CNN and FOX, are running with the talking point that,  this could not have come at a worse time for President Obama right before tonight s State Of Union speech, when he s trying to prove to the American people that Iran is a country that can be trusted to implement the historic nuclear deal. This latest Naval  controversy  also comes days before the implementation phase of the Iran Nuclear Deal. To say this is a coincidence might be naive.That said, could GOP and Israel-aligned members of the Pentagon or intelligence establishment have helped to engineer today s bizarre  mini-crisis  in order to help weaken U.S.-Iran relations, and by extension, Obama s controversial Iranian Nuclear Deal?This looks likely to be the case, as evidenced by the quick appearance of the Israel Lobby-sponsored, pro-war U.S. Senator Tom Cotton (R), placed by CNN to direct aggressive U.S. military talking points live on air as the story broke today. Cotton (photo, left) immediately called the event  hostile  and blamed Iran for the U.S. boat drifting into Iranian waters, and then blamed the  crisis  on President Obama, who he claims,  has emboldened the Iranian aggression. Cotton then goes on to tell a giant lie, on which his media handler, CNN s Wolf Blitzer, does not even blink, much less challenge Cotton s imaginary statement: The Iranians, who are largely responsible for killing our (American) soldiers in Iraq and Afghanistan. Cotton then went on to threaten Iran, saying that: These sailors and both vessels  need to be immediately released. If they are not released, then the Iran (nuclear) deal should not go forward, and military force will be on the table to retaliate for this act of aggression.  Cotton then proceeded to give a veiled (nuclear?) threat to Iran, saying that,  All (military) options should be on the table.  Would Washington s top operatives go so far as to engineer or exacerbate an international crisis such as this   by dispatching the boats off course, knowing full-well that Iran would not harm U.S. personnel, but using the incident to injure a lame duck? The answer is  yes , and they ve done it before In 1979, 52 American diplomats and citizens were held hostage for 444 days in what became known as the Iranian Hostage Crisis, which just happened to take place during a US presidential election cycle, with then president Jimmy Carter (D) running for reelection against challenger Ronald Reagan (R). The crisis, including a horrific failed rescue attempt, was used against Carter in the media. According to reports at the time Reagan campaign operatives had managed to do a backdoor deal with the elements of the new Iranian regime to  hold-off  releasing the hostages until after the election. In the end, Reagan won and took credit for that  victory .Not surprisingly, at the end of his prearranged CNN segment, Cotton invoked the  feckless foreign policy  of Jimmy Carter which  caused  the 1979 Iran Hostage Crisis, and compared that to President Obama s current policy.Of all the U.S. Officials CNN could have brought in on  short notice , they chose Senator Tom Cotton, the most hawkish and closest aligned to Israel. Clearly, this looks like a neocon stunt.Stay tuned for more updates.READ MORE IRAN NEWS AT: 21st Century Wire Iran Files'],\n",
              "      dtype=object)"
            ]
          },
          "metadata": {},
          "execution_count": 21
        }
      ]
    },
    {
      "cell_type": "code",
      "metadata": {
        "id": "8LPNrEU8TvNf",
        "colab": {
          "base_uri": "https://localhost:8080/"
        },
        "outputId": "338ebc30-cfc5-4cfb-cbc0-1ece87ea763e"
      },
      "source": [
        "y"
      ],
      "execution_count": null,
      "outputs": [
        {
          "output_type": "execute_result",
          "data": {
            "text/plain": [
              "array([1, 1, 1, ..., 0, 0, 0])"
            ]
          },
          "metadata": {},
          "execution_count": 22
        }
      ]
    },
    {
      "cell_type": "code",
      "metadata": {
        "colab": {
          "base_uri": "https://localhost:8080/",
          "height": 423
        },
        "id": "pY5_uIGO97rP",
        "outputId": "4e99d001-5f2c-4e12-f58c-e205b437bf88"
      },
      "source": [
        "x_test"
      ],
      "execution_count": null,
      "outputs": [
        {
          "output_type": "execute_result",
          "data": {
            "text/html": [
              "<div>\n",
              "<style scoped>\n",
              "    .dataframe tbody tr th:only-of-type {\n",
              "        vertical-align: middle;\n",
              "    }\n",
              "\n",
              "    .dataframe tbody tr th {\n",
              "        vertical-align: top;\n",
              "    }\n",
              "\n",
              "    .dataframe thead th {\n",
              "        text-align: right;\n",
              "    }\n",
              "</style>\n",
              "<table border=\"1\" class=\"dataframe\">\n",
              "  <thead>\n",
              "    <tr style=\"text-align: right;\">\n",
              "      <th></th>\n",
              "      <th>text</th>\n",
              "    </tr>\n",
              "  </thead>\n",
              "  <tbody>\n",
              "    <tr>\n",
              "      <th>0</th>\n",
              "      <td>The Vegan Prince &amp;amp; Clean Energy\\n\\nhttps:/...</td>\n",
              "    </tr>\n",
              "    <tr>\n",
              "      <th>1</th>\n",
              "      <td>Make Your Feet Happy With These Shoe Tips - ht...</td>\n",
              "    </tr>\n",
              "    <tr>\n",
              "      <th>2</th>\n",
              "      <td>corruption are #corruption #covid #trump #trut...</td>\n",
              "    </tr>\n",
              "    <tr>\n",
              "      <th>3</th>\n",
              "      <td>☏ COVID?19 Pandemic?Related Stressors and Post...</td>\n",
              "    </tr>\n",
              "    <tr>\n",
              "      <th>4</th>\n",
              "      <td>#tamilnews #news #tamilserials #TamilNadu #tam...</td>\n",
              "    </tr>\n",
              "    <tr>\n",
              "      <th>...</th>\n",
              "      <td>...</td>\n",
              "    </tr>\n",
              "    <tr>\n",
              "      <th>95</th>\n",
              "      <td>Save on MacBooks, iPads, AirPods, and more wit...</td>\n",
              "    </tr>\n",
              "    <tr>\n",
              "      <th>96</th>\n",
              "      <td>Save on MacBooks, iPads, AirPods, and more wit...</td>\n",
              "    </tr>\n",
              "    <tr>\n",
              "      <th>97</th>\n",
              "      <td>The best Black Friday tablet deals #Technology...</td>\n",
              "    </tr>\n",
              "    <tr>\n",
              "      <th>98</th>\n",
              "      <td>The Meaning Behind the Fasting Buddha Statue\\n...</td>\n",
              "    </tr>\n",
              "    <tr>\n",
              "      <th>99</th>\n",
              "      <td>if you missed $shiib don't miss $DATX same cha...</td>\n",
              "    </tr>\n",
              "  </tbody>\n",
              "</table>\n",
              "<p>100 rows × 1 columns</p>\n",
              "</div>"
            ],
            "text/plain": [
              "                                                 text\n",
              "0   The Vegan Prince &amp; Clean Energy\\n\\nhttps:/...\n",
              "1   Make Your Feet Happy With These Shoe Tips - ht...\n",
              "2   corruption are #corruption #covid #trump #trut...\n",
              "3   ☏ COVID?19 Pandemic?Related Stressors and Post...\n",
              "4   #tamilnews #news #tamilserials #TamilNadu #tam...\n",
              "..                                                ...\n",
              "95  Save on MacBooks, iPads, AirPods, and more wit...\n",
              "96  Save on MacBooks, iPads, AirPods, and more wit...\n",
              "97  The best Black Friday tablet deals #Technology...\n",
              "98  The Meaning Behind the Fasting Buddha Statue\\n...\n",
              "99  if you missed $shiib don't miss $DATX same cha...\n",
              "\n",
              "[100 rows x 1 columns]"
            ]
          },
          "metadata": {},
          "execution_count": 23
        }
      ]
    },
    {
      "cell_type": "markdown",
      "metadata": {
        "id": "q6OsdCB7UnTr"
      },
      "source": [
        "# applying NLP"
      ]
    },
    {
      "cell_type": "code",
      "metadata": {
        "id": "cJKrG5mEUqF7"
      },
      "source": [
        "from sklearn.feature_extraction.text import CountVectorizer\n",
        "vector = CountVectorizer(stop_words=\"english\",max_df=0.7)"
      ],
      "execution_count": null,
      "outputs": []
    },
    {
      "cell_type": "code",
      "metadata": {
        "id": "Hb5R9fC1U5FX"
      },
      "source": [
        "tf_train = vector.fit_transform(x)\n",
        "tf_test = vector.transform(x_test)"
      ],
      "execution_count": null,
      "outputs": []
    },
    {
      "cell_type": "code",
      "metadata": {
        "colab": {
          "base_uri": "https://localhost:8080/"
        },
        "id": "OfZgb77ZDEMZ",
        "outputId": "cde9069b-c784-4229-9e12-461804484524"
      },
      "source": [
        "print(tf_train)"
      ],
      "execution_count": null,
      "outputs": [
        {
          "output_type": "stream",
          "name": "stdout",
          "text": [
            "  (0, 116567)\t2\n",
            "  (0, 92300)\t1\n",
            "  (0, 50301)\t1\n",
            "  (0, 28059)\t3\n",
            "  (0, 91740)\t6\n",
            "  (0, 40711)\t1\n",
            "  (0, 27920)\t2\n",
            "  (0, 115757)\t3\n",
            "  (0, 72991)\t1\n",
            "  (0, 52816)\t1\n",
            "  (0, 40158)\t1\n",
            "  (0, 75219)\t2\n",
            "  (0, 31692)\t3\n",
            "  (0, 82352)\t3\n",
            "  (0, 106564)\t8\n",
            "  (0, 30418)\t3\n",
            "  (0, 22306)\t1\n",
            "  (0, 42431)\t3\n",
            "  (0, 104679)\t2\n",
            "  (0, 113730)\t1\n",
            "  (0, 21206)\t5\n",
            "  (0, 92086)\t1\n",
            "  (0, 4152)\t3\n",
            "  (0, 60460)\t1\n",
            "  (0, 98360)\t1\n",
            "  :\t:\n",
            "  (44897, 39859)\t1\n",
            "  (44897, 18784)\t2\n",
            "  (44897, 74874)\t1\n",
            "  (44897, 5768)\t1\n",
            "  (44897, 83172)\t4\n",
            "  (44897, 63368)\t1\n",
            "  (44897, 55367)\t1\n",
            "  (44897, 35922)\t1\n",
            "  (44897, 71698)\t1\n",
            "  (44897, 35918)\t1\n",
            "  (44897, 26772)\t1\n",
            "  (44897, 103811)\t1\n",
            "  (44897, 54061)\t1\n",
            "  (44897, 39788)\t1\n",
            "  (44897, 18760)\t1\n",
            "  (44897, 41176)\t2\n",
            "  (44897, 49486)\t1\n",
            "  (44897, 93090)\t1\n",
            "  (44897, 75816)\t3\n",
            "  (44897, 113891)\t2\n",
            "  (44897, 41554)\t1\n",
            "  (44897, 4307)\t1\n",
            "  (44897, 21658)\t1\n",
            "  (44897, 104089)\t1\n",
            "  (44897, 85843)\t1\n"
          ]
        }
      ]
    },
    {
      "cell_type": "code",
      "metadata": {
        "colab": {
          "base_uri": "https://localhost:8080/"
        },
        "id": "cDgtnJbJBd8N",
        "outputId": "f9741af4-496c-46b7-cbb0-805ef591207f"
      },
      "source": [
        "tf_test"
      ],
      "execution_count": null,
      "outputs": [
        {
          "output_type": "execute_result",
          "data": {
            "text/plain": [
              "<1x121689 sparse matrix of type '<class 'numpy.int64'>'\n",
              "\twith 1 stored elements in Compressed Sparse Row format>"
            ]
          },
          "metadata": {},
          "execution_count": 27
        }
      ]
    },
    {
      "cell_type": "markdown",
      "metadata": {
        "id": "d30wGBszWdsn"
      },
      "source": [
        "# applying the model"
      ]
    },
    {
      "cell_type": "code",
      "metadata": {
        "id": "QziT4AeQWgj-",
        "colab": {
          "base_uri": "https://localhost:8080/"
        },
        "outputId": "9d3ece06-9266-4d3b-d283-62a12883ff0a"
      },
      "source": [
        "from sklearn.linear_model import PassiveAggressiveClassifier\n",
        "pac = PassiveAggressiveClassifier(max_iter=50)\n",
        "pac.fit(tf_train,y)"
      ],
      "execution_count": null,
      "outputs": [
        {
          "output_type": "execute_result",
          "data": {
            "text/plain": [
              "PassiveAggressiveClassifier(max_iter=50)"
            ]
          },
          "metadata": {},
          "execution_count": 28
        }
      ]
    }
  ]
}